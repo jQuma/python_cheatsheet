{
 "cells": [
  {
   "cell_type": "markdown",
   "id": "f5a1db82-8196-4d7c-a6a2-b1c515a27c9e",
   "metadata": {},
   "source": [
    "**2024-2025 Unibe Python cheatsheet**"
   ]
  },
  {
   "cell_type": "markdown",
   "id": "82562fe5",
   "metadata": {},
   "source": [
    "### Why Python?\n",
    "\n",
    "Python is a high-level, interpreted programming language known for its simplicity, readability, and versatility. It supports multiple programming paradigms, such as object-oriented, procedural, and functional programming, making it suitable for a wide range of applications like web development, data analysis, artificial intelligence, and more.\n",
    "\n",
    "### Key Advantages:\n",
    "\n",
    "- Readability: Python has a clean and simple syntax, making it easy to learn and use.\n",
    "\n",
    "- Versatility: Suitable for web, desktop, and scientific applications.\n",
    "\n",
    "- Cross-platform: Runs on Windows, macOS, Linux, and more.\n",
    "\n",
    "- Large Community: A vast library ecosystem and active community support.\n",
    "\n",
    "- Popularity: Consistently ranks as one of the most popular programming languages."
   ]
  },
  {
   "cell_type": "markdown",
   "id": "76b28bef",
   "metadata": {},
   "source": [
    "## 0.0 Getting Started\n",
    "\n",
    "### 0.1 Program Development\n",
    "\n",
    "Python is an interpreted language, meaning the code is executed line-by-line. You write Python programs in .py files and run them using the Python interpreter.\n",
    "\n",
    "Compiling: Converts source code into machine code (e.g., C++).\n",
    "\n",
    "Interpreting: Executes code directly without compiling (e.g., Python).\n",
    "\n",
    "### 0.2 Python Interpreter\n",
    "\n",
    "- Interactive Mode: Open the interpreter by typing python in your terminal (use python3 if Python 2 is installed).\n",
    "\n",
    "\n",
    "```python\n",
    ">>> 2 + 3\n",
    "5\n",
    ">>> print(\"Hello, Python!\")\n",
    "Hello, Python!\n",
    ">>> quit()\n",
    "```\n",
    "- Script Mode: Save code in a .py file and run using python script.py."
   ]
  },
  {
   "cell_type": "markdown",
   "id": "9a2233eb-1853-42a6-98d8-60371dec533f",
   "metadata": {},
   "source": [
    "# 1. Python Basics"
   ]
  },
  {
   "cell_type": "markdown",
   "id": "0592315a",
   "metadata": {},
   "source": [
    "## 1.0 Comments\n",
    "\n",
    "Program comments start with a hash character `\"#\"` and continue until the end of the line. There are no multi-line comment markers, but that can sometimes be faked with multi-line string literals."
   ]
  },
  {
   "cell_type": "markdown",
   "id": "c670b87c",
   "metadata": {},
   "source": [
    "*Examples:*"
   ]
  },
  {
   "cell_type": "code",
   "execution_count": 22,
   "id": "b2ce3edd",
   "metadata": {},
   "outputs": [],
   "source": [
    "# This is a comment.\n",
    "# This is another comment."
   ]
  },
  {
   "cell_type": "code",
   "execution_count": 23,
   "id": "20cade98",
   "metadata": {},
   "outputs": [],
   "source": [
    "x = 5 # This is a comment which follows some code."
   ]
  },
  {
   "cell_type": "code",
   "execution_count": 24,
   "id": "838fd96f",
   "metadata": {},
   "outputs": [
    {
     "data": {
      "text/plain": [
       "'This is\\na multi-line\\nstring literal\\nwhich can sometimes act like\\na\\ncomment.\\n'"
      ]
     },
     "execution_count": 24,
     "metadata": {},
     "output_type": "execute_result"
    }
   ],
   "source": [
    "'''This is\n",
    "a multi-line\n",
    "string literal\n",
    "which can sometimes act like\n",
    "a\n",
    "comment.\n",
    "'''"
   ]
  },
  {
   "cell_type": "markdown",
   "id": "f00d5796",
   "metadata": {},
   "source": [
    "## 1.1 Variables\n",
    "A variable in Python acts as a label or reference to a specific location in memory. This location can hold a value, which can change throughout the program. Think of it like a container with a name tag (the variable) that stores contents (the value)\n",
    "\n",
    "**Naming Rules:** \n",
    "\n",
    "- Must start with a letter or underscore.\n",
    "\n",
    "- Can only contain letters, digits, or underscores.\n",
    "\n",
    "- Case-sensitive (myVar and myvar are different).\n"
   ]
  },
  {
   "cell_type": "markdown",
   "id": "058e6dad",
   "metadata": {},
   "source": [
    "*Examples*:"
   ]
  },
  {
   "cell_type": "code",
   "execution_count": 3,
   "id": "81e22ae2",
   "metadata": {},
   "outputs": [
    {
     "data": {
      "text/plain": [
       "False"
      ]
     },
     "execution_count": 3,
     "metadata": {},
     "output_type": "execute_result"
    }
   ],
   "source": [
    "x = 10\n",
    "y = 10.3 #You can change the value of a variable troughout the program ex:\n",
    "x = 11 # Now x contain the value 11\n",
    "\n",
    "x = 5  # Integer\n",
    "y = 3.14  # Float\n",
    "name = \"Alice\"  # String\n",
    "is_active = True  # Boolean\n",
    "#Careful when choosing a name, as some names are forbidden/already used by python here is a list:\n",
    "\"\"\"\n",
    "False await else None break except True class finally and continue for\n",
    "as def from assert del global async elif if\n",
    "import pass in raise is return lambda try nonlocal while not with or yield\n",
    "\n",
    "\"\"\"\n",
    "\n",
    "#Python knows the difference between a majuscule or a minuscule :\n",
    "\n",
    "\"JOHN\" == \"john\" #this is a boolean that checks if JOHN or john is the same --> check 1.2 Types\n",
    "\n"
   ]
  },
  {
   "cell_type": "code",
   "execution_count": 50,
   "id": "348c93cc",
   "metadata": {},
   "outputs": [
    {
     "ename": "SyntaxError",
     "evalue": "cannot assign to None (2960957901.py, line 1)",
     "output_type": "error",
     "traceback": [
      "\u001b[0;36m  Cell \u001b[0;32mIn[50], line 1\u001b[0;36m\u001b[0m\n\u001b[0;31m    None = \"not gonna work\"\u001b[0m\n\u001b[0m    ^\u001b[0m\n\u001b[0;31mSyntaxError\u001b[0m\u001b[0;31m:\u001b[0m cannot assign to None\n"
     ]
    }
   ],
   "source": [
    "None = \"not gonna work\""
   ]
  },
  {
   "cell_type": "markdown",
   "id": "c8780b73",
   "metadata": {},
   "source": []
  },
  {
   "cell_type": "markdown",
   "id": "19dbbb91",
   "metadata": {},
   "source": [
    "*!! Be careful not to use `==` as it something else !*"
   ]
  },
  {
   "cell_type": "markdown",
   "id": "6548169c",
   "metadata": {},
   "source": [
    "## 1.2 Types\n",
    "main ones include:\n",
    "- string (\"hello\")\n",
    "- int (1,20,402)\n",
    "- float (2.33,2.0)\n",
    "- complex (10 + 5i)\n",
    "- bool (True, False)"
   ]
  },
  {
   "cell_type": "markdown",
   "id": "d7fd1f39",
   "metadata": {},
   "source": [
    "*You can se the type of a variable by using `type(x)`*"
   ]
  },
  {
   "cell_type": "markdown",
   "id": "90179b95",
   "metadata": {},
   "source": [
    "### Strings `str`\n",
    "- Represent text\n",
    "- String literals must be quoted. There are 3 quoting styles:\n",
    "   - single quote characters: `'hello'`\n",
    "   - double quote characters: `\"hello\"`\n",
    "   - triple quote characters: `'''hello'''` (three single quotes in a row) or `\"\"\"hello\"\"\"` (three double quote characters in a row)\n",
    "- The usual set of escape characters are supported (see `print()`function for more):\n",
    "   - `\\n` newline\n",
    "   - `\\t` tab\n",
    "   - `\\\\` backslash\n",
    "   - `\\'` single quote\n",
    "   - `\\\"` double quote\n",
    "   - and many more\n",
    "- Strings can be indexed to obtain individual characters, e.g. `s[5]` (the result of which is a string of length one).\n",
    "- Indices are zero-based (but you may also use negative indices to access items with respect to the right end of the string).\n",
    "\n",
    "   ->(0,1,2,3,4,5,...)\n",
    "- Strings are immutable: you cannot modify a string once it has been created.\n",
    "\n",
    "*Example:*"
   ]
  },
  {
   "cell_type": "code",
   "execution_count": 8,
   "id": "99360163",
   "metadata": {},
   "outputs": [
    {
     "data": {
      "text/plain": [
       "str"
      ]
     },
     "execution_count": 8,
     "metadata": {},
     "output_type": "execute_result"
    }
   ],
   "source": [
    "type('Hello')"
   ]
  },
  {
   "cell_type": "code",
   "execution_count": 9,
   "id": "568b8bbf",
   "metadata": {},
   "outputs": [
    {
     "data": {
      "text/plain": [
       "str"
      ]
     },
     "execution_count": 9,
     "metadata": {},
     "output_type": "execute_result"
    }
   ],
   "source": [
    "type(\"John\")"
   ]
  },
  {
   "cell_type": "code",
   "execution_count": 15,
   "id": "c4a61889",
   "metadata": {},
   "outputs": [
    {
     "name": "stdout",
     "output_type": "stream",
     "text": [
      "a\n",
      "r\n",
      "i\n"
     ]
    }
   ],
   "source": [
    "name = \"Marius Nowacki\"\n",
    "# indexes are 0,1,2,3,4,... or -14,-13,-12,..., -1\n",
    "print(name[1])#second letter\n",
    "print(name[-12])#second letter\n",
    "print(name[-1])#last letter"
   ]
  },
  {
   "cell_type": "markdown",
   "id": "370db7a5",
   "metadata": {},
   "source": [
    "#### Integers `int`\n",
    "\n",
    "- Represent whole negative and positive numbers (and zero).\n",
    "- The range of integer values is unbounded (up to some limit defined by how much memory you have on your computer).\n",
    "- `int(x)` will try to convert `x` to an integer, `x` can be another numeric type (including booleans) or a string. You may specify an optional base for the conversion\n",
    "\n",
    "*Example:*"
   ]
  },
  {
   "cell_type": "code",
   "execution_count": 2,
   "id": "64042a4c",
   "metadata": {},
   "outputs": [
    {
     "data": {
      "text/plain": [
       "int"
      ]
     },
     "execution_count": 2,
     "metadata": {},
     "output_type": "execute_result"
    }
   ],
   "source": [
    "type(123)"
   ]
  },
  {
   "cell_type": "code",
   "execution_count": 19,
   "id": "df612cc7",
   "metadata": {},
   "outputs": [
    {
     "data": {
      "text/plain": [
       "int"
      ]
     },
     "execution_count": 19,
     "metadata": {},
     "output_type": "execute_result"
    }
   ],
   "source": [
    "i = int('23')\n",
    "type(i)"
   ]
  },
  {
   "cell_type": "markdown",
   "id": "9a42a3c2",
   "metadata": {},
   "source": [
    "### Float `float`\n",
    "- Represent the real numbers (1.99, 2.549, ...)\n",
    "- Literals can be in ordinary notation or in exponential notation:\n",
    "    - Ordinary: `3.142`\n",
    "    - Exponential: 314.2e-2\n",
    "- Ordinary notation requires a point `\".\"`, but digits following the point are optional.\n",
    "- `float(x)`will try to convert x to a float\n",
    "\n",
    "*Example:*"
   ]
  },
  {
   "cell_type": "markdown",
   "id": "f15436a3",
   "metadata": {},
   "source": []
  },
  {
   "cell_type": "code",
   "execution_count": 20,
   "id": "b40774c7",
   "metadata": {},
   "outputs": [
    {
     "data": {
      "text/plain": [
       "float"
      ]
     },
     "execution_count": 20,
     "metadata": {},
     "output_type": "execute_result"
    }
   ],
   "source": [
    "type(2.9293)"
   ]
  },
  {
   "cell_type": "code",
   "execution_count": 21,
   "id": "32116369",
   "metadata": {},
   "outputs": [
    {
     "data": {
      "text/plain": [
       "True"
      ]
     },
     "execution_count": 21,
     "metadata": {},
     "output_type": "execute_result"
    }
   ],
   "source": [
    "3.142 == 314.2e-2"
   ]
  },
  {
   "cell_type": "markdown",
   "id": "6a41fa89",
   "metadata": {},
   "source": [
    "### Complex Numbers `complex` (U don't need to know)\n",
    "\n",
    "- Represent a finite approximation to the complex numbers.\n",
    "- Type: `complex`\n",
    "- A pair of floating point numbers: real +/- imaginary.\n",
    "- The real part is optional (defaults to 0). The imaginary part is followed immediately by the character `j`.\n",
    "\n",
    "*Examples:*"
   ]
  },
  {
   "cell_type": "code",
   "execution_count": 35,
   "id": "819a0be4",
   "metadata": {},
   "outputs": [
    {
     "data": {
      "text/plain": [
       "8j"
      ]
     },
     "execution_count": 35,
     "metadata": {},
     "output_type": "execute_result"
    }
   ],
   "source": [
    "5j + 3j"
   ]
  },
  {
   "cell_type": "code",
   "execution_count": 36,
   "id": "e7e4d223",
   "metadata": {},
   "outputs": [
    {
     "data": {
      "text/plain": [
       "complex"
      ]
     },
     "execution_count": 36,
     "metadata": {},
     "output_type": "execute_result"
    }
   ],
   "source": [
    "type(5j + 3j)"
   ]
  },
  {
   "cell_type": "markdown",
   "id": "e33453e5",
   "metadata": {},
   "source": [
    "### Booleans `bool`\n",
    "\n",
    "- Represent truth values\n",
    "- Values: `True`, `False`\n",
    "- Type: `bool`\n",
    "- Operators: `and`, `or`, `not`. See [Boolean Operations — and, or, not](https://docs.python.org/3/library/stdtypes.html#boolean-operations-and-or-not) in the Python documentation for more details.\n",
    "- `bool(x)` will convert `x` to a boolean. The heuristic is that empty things and zero-ish things are `False`, everything else is `True` (but the user can override for their own types). See [truth value testing](https://docs.python.org/3/library/stdtypes.html#truth-value-testing) in the Python documentation for more details.\n",
    "- False values:\n",
    "    - `False`\n",
    "    - `0` (zero integer)\n",
    "    - `0.0` (zero float)\n",
    "    - `{}` (empty dictionary)\n",
    "    - `()` (empty tuple)\n",
    "    - `[]` (empty list)\n",
    "    - `''` (empty string)\n",
    "    - `None`\n",
    "- True values:\n",
    "    - everything which is not considered False\n",
    "    \n",
    "In numerical contexts `True` is considered equal to the integer `1` and `False` is considered equal to the integer `0`. However, these conversions are a common cause of bugs and should be avoided.\n",
    "\n",
    "Python will automatically test the truthiness of a value if it appears in a boolean context.\n",
    "\n",
    "*Examples:*"
   ]
  },
  {
   "cell_type": "code",
   "execution_count": 37,
   "id": "7ee4992f",
   "metadata": {},
   "outputs": [
    {
     "data": {
      "text/plain": [
       "False"
      ]
     },
     "execution_count": 37,
     "metadata": {},
     "output_type": "execute_result"
    }
   ],
   "source": [
    "not True"
   ]
  },
  {
   "cell_type": "code",
   "execution_count": 38,
   "id": "c7c5e1db",
   "metadata": {},
   "outputs": [
    {
     "data": {
      "text/plain": [
       "True"
      ]
     },
     "execution_count": 38,
     "metadata": {},
     "output_type": "execute_result"
    }
   ],
   "source": [
    "# empty is converted to False in boolean contexts\n",
    "not ()"
   ]
  },
  {
   "cell_type": "code",
   "execution_count": 39,
   "id": "31c6b90b",
   "metadata": {},
   "outputs": [
    {
     "data": {
      "text/plain": [
       "False"
      ]
     },
     "execution_count": 39,
     "metadata": {},
     "output_type": "execute_result"
    }
   ],
   "source": [
    "5 == 10"
   ]
  },
  {
   "cell_type": "markdown",
   "id": "ffc259a1",
   "metadata": {},
   "source": [
    "## 1.3 Operators"
   ]
  },
  {
   "cell_type": "markdown",
   "id": "4523ff42",
   "metadata": {},
   "source": [
    "\n",
    "### Arithmetic Operators\n",
    "| Name | Operation | Precedence | Associativity | Notes |\n",
    "|:----:|-----------|------------|---------------|-------|\n",
    "| +    | add       | low        | left          | Can also be used to concatenate strings together. |\n",
    "| *    | multiply  | medium     | left          |        |\n",
    "| -    | subtract  | low        | left          |        |\n",
    "| /    | divide    | medium     | left          | In Python 3 the result is always a floating point number. In Python 2 the result is an integer if both operands are integers. |\n",
    "| //   | floor-divide | medium  | left          | divide then floor, result is an integer |\n",
    "| `**` | exponent  | high       | right         |        |\n",
    "| %    | modulus   | medium     | left          | remainder after division (Tips: use that to check if something is even or odd)|"
   ]
  },
  {
   "cell_type": "markdown",
   "id": "ecd5839a",
   "metadata": {},
   "source": [
    "### Relational Operators"
   ]
  },
  {
   "cell_type": "markdown",
   "id": "b6815bcf",
   "metadata": {},
   "source": [
    "| Name   | Operation                | Notes                                                                 |\n",
    "|:------:|--------------------------|----------------------------------------------------------------------|\n",
    "| ==     | equals                   | Checks if two values are equal. Can also be used to compare strings. |\n",
    "| !=     | not equals               | Checks if two values are not equal.                                  |\n",
    "| <      | less than                | Checks if the left value is less than the right value.               |\n",
    "| >      | greater than             | Checks if the left value is greater than the right value.            |\n",
    "| <=     | less than or equal to    | Checks if the left value is less than or equal to the right value.   |\n",
    "| >=     | greater than or equal to | Checks if the left value is greater than or equal to the right value.|\n",
    "| `is`   | identity check           | Checks if two references point to the same object.                   |\n",
    "| `is not` | negated identity check   | Checks if two references do not point to the same object.            |\n"
   ]
  },
  {
   "cell_type": "markdown",
   "id": "c5dba436",
   "metadata": {},
   "source": [
    "### Logical Operators\n",
    "| Operator | Name | Example                    |\n",
    "|----------|------|----------------------------|\n",
    "| and      | AND  | True and False -> False     |\n",
    "| or       | OR   | True or False -> True       |\n",
    "| not      | NOT  | not True -> False           |"
   ]
  },
  {
   "cell_type": "code",
   "execution_count": 2,
   "id": "b99d2bd9",
   "metadata": {},
   "outputs": [
    {
     "name": "stdout",
     "output_type": "stream",
     "text": [
      "True\n",
      "False\n",
      "True\n",
      "False\n",
      "True\n",
      "False\n",
      "True\n",
      "False\n",
      "True\n",
      "False\n",
      "True\n",
      "False\n",
      "True\n",
      "False\n",
      "True\n",
      "False\n"
     ]
    }
   ],
   "source": [
    "# Examples for each operation\n",
    "\n",
    "# 1. Equals (==)\n",
    "print(5 == 5)  # True: 5 is equal to 5\n",
    "print(\"hello\" == \"world\")  # False: strings are not equal\n",
    "\n",
    "# 2. Not Equals (!=)\n",
    "print(5 != 3)  # True: 5 is not equal to 3\n",
    "print(\"apple\" != \"apple\")  # False: strings are equal\n",
    "\n",
    "# 3. Less Than (<)\n",
    "print(3 < 5)  # True: 3 is less than 5\n",
    "print(7 < 4)  # False: 7 is not less than 4\n",
    "\n",
    "# 4. Greater Than (>)\n",
    "print(5 > 3)  # True: 5 is greater than 3\n",
    "print(2 > 4)  # False: 2 is not greater than 4\n",
    "\n",
    "# 5. Less Than or Equal To (<=)\n",
    "print(3 <= 3)  # True: 3 is equal to 3\n",
    "print(4 <= 2)  # False: 4 is not less than or equal to 2\n",
    "\n",
    "# 6. Greater Than or Equal To (>=)\n",
    "print(5 >= 4)  # True: 5 is greater than 4\n",
    "print(2 >= 6)  # False: 2 is not greater than or equal to 6\n",
    "\n",
    "# 7. Identity Check (is)\n",
    "a = [1, 2, 3]\n",
    "b = a\n",
    "c = [1, 2, 3]\n",
    "print(a is b)  # True: a and b refer to the same object\n",
    "print(a is c)  # False: a and c have the same content but are different objects\n",
    "\n",
    "# 8. Negated Identity Check (is not)\n",
    "print(a is not c)  # True: a and c are not the same object\n",
    "print(a is not b)  # False: a and b are the same object\n"
   ]
  },
  {
   "cell_type": "code",
   "execution_count": 40,
   "id": "b98574a3",
   "metadata": {},
   "outputs": [
    {
     "data": {
      "text/plain": [
       "'strings'"
      ]
     },
     "execution_count": 40,
     "metadata": {},
     "output_type": "execute_result"
    }
   ],
   "source": [
    "\"str\"+\"ings\""
   ]
  },
  {
   "cell_type": "code",
   "execution_count": 43,
   "id": "6f313b25",
   "metadata": {},
   "outputs": [
    {
     "data": {
      "text/plain": [
       "3"
      ]
     },
     "execution_count": 43,
     "metadata": {},
     "output_type": "execute_result"
    }
   ],
   "source": [
    "10//3"
   ]
  },
  {
   "cell_type": "code",
   "execution_count": 44,
   "id": "34b7caf7",
   "metadata": {},
   "outputs": [
    {
     "data": {
      "text/plain": [
       "3.3333333333333335"
      ]
     },
     "execution_count": 44,
     "metadata": {},
     "output_type": "execute_result"
    }
   ],
   "source": [
    "10/3"
   ]
  },
  {
   "cell_type": "code",
   "execution_count": 45,
   "id": "9f150ad5",
   "metadata": {},
   "outputs": [
    {
     "data": {
      "text/plain": [
       "1"
      ]
     },
     "execution_count": 45,
     "metadata": {},
     "output_type": "execute_result"
    }
   ],
   "source": [
    "10%3"
   ]
  },
  {
   "cell_type": "markdown",
   "id": "ae11459b",
   "metadata": {},
   "source": [
    "## 1.4 Errors:\n",
    "- Syntax Errors: These happen when your code breaks the rules of Python grammar. Like making a grammatical mistake in English. For example, forgetting a colon after an if statement. These are usually caught when you try to run the program.\n",
    "\n",
    "- Semantic Errors: These happen when your code is grammatically correct but doesn't do what you intended. This is due to flawed logic: for example, dividing by zero. These are trickier to find because the program might still run, but with wrong results.\n",
    "Debugging is the process of finding and fixing logical errors in your code."
   ]
  },
  {
   "cell_type": "markdown",
   "id": "1c6aa3bb",
   "metadata": {},
   "source": []
  },
  {
   "cell_type": "markdown",
   "id": "6de9693e",
   "metadata": {},
   "source": [
    "## 1.5 `Print()` and `Input()`"
   ]
  },
  {
   "cell_type": "markdown",
   "id": "58539574",
   "metadata": {},
   "source": [
    "- The `print()` \n",
    "    - function is used to display information on the computer's console. \n",
    "    - You can use it to output text, numbers, or the values of variables.\n",
    "    - From `str`: \n",
    "        - `\\n` newline\n",
    "        - `\\t` tab\n",
    "        - `\\\\` backslash\n",
    "        - `\\'` single quote\n",
    "        - `\\\"` double quote\n",
    "- The `input()` \n",
    "    - function allows a program to receive information from the user. \n",
    "    - It displays a message prompting the user for input and then waits for the user to type something and press Enter. \n",
    "    - **It returns the user's input as a string.**"
   ]
  },
  {
   "cell_type": "code",
   "execution_count": 57,
   "id": "a234292a",
   "metadata": {},
   "outputs": [
    {
     "name": "stdout",
     "output_type": "stream",
     "text": [
      "hello\n",
      "10\n",
      "25\n",
      "Hi im Roger and I am 40 years old\n",
      "this is a new line\n",
      "down here then a\ttab etc...\n"
     ]
    }
   ],
   "source": [
    "#display text\n",
    "print(\"hello\")\n",
    "#display numbers\n",
    "print(10)\n",
    "\n",
    "#variables\n",
    "x = 25\n",
    "print(x)\n",
    "\n",
    "#multiple\n",
    "age = 40\n",
    "print(\"Hi im Roger and I am\",age,\"years old\")\n",
    "print(\"this is a new line\\ndown here then a\\ttab etc...\")"
   ]
  },
  {
   "cell_type": "code",
   "execution_count": 1,
   "id": "918488af",
   "metadata": {},
   "outputs": [],
   "source": [
    "#if input needs to be an int or a float number \n",
    "# ex : age = int(input(\"enter your age\"))"
   ]
  },
  {
   "cell_type": "markdown",
   "id": "bf0a3a79",
   "metadata": {},
   "source": [
    "## 1.6 List"
   ]
  },
  {
   "cell_type": "markdown",
   "id": "86d013ed",
   "metadata": {},
   "source": [
    "- **Definition**: A list is a versatile data structure used to store an ordered collection of items.\n",
    "\n",
    "- **Creation**: Lists are created using square brackets [], with items separated by commas:\n",
    "\n",
    "- **Data Types**: Lists can contain items of various data types, including integers, floats, strings, booleans, and even other lists.\n",
    "\n",
    "- **Accessing Elements**:\n",
    "\n",
    "    - Indexing: You can access individual items using their index, starting from 0 for the first element.\n",
    "\n",
    "    - Negative Indexing: Access elements from the end using negative indices:\n",
    "\n",
    "- **Slicing**: Extract a portion of the list (a sub-list) using slicing:\n",
    "\n",
    "- **Mutability**: Lists are mutable, allowing modification after creation:\n",
    "\n",
    "    - Changing Values:\n",
    "\n",
    "    - Adding Items:\n",
    "\n",
    "    - Removing Items:\n",
    "\n",
    "- **Iteration**: Use loops to process each item in a list sequentially:"
   ]
  },
  {
   "cell_type": "markdown",
   "id": "6397daff",
   "metadata": {},
   "source": []
  }
 ],
 "metadata": {
  "kernelspec": {
   "display_name": "Python 3 (ipykernel)",
   "language": "python",
   "name": "python3"
  },
  "language_info": {
   "codemirror_mode": {
    "name": "ipython",
    "version": 3
   },
   "file_extension": ".py",
   "mimetype": "text/x-python",
   "name": "python",
   "nbconvert_exporter": "python",
   "pygments_lexer": "ipython3",
   "version": "3.9.7"
  }
 },
 "nbformat": 4,
 "nbformat_minor": 5
}
