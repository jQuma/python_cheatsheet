{
 "cells": [
  {
   "cell_type": "markdown",
   "id": "f5a1db82-8196-4d7c-a6a2-b1c515a27c9e",
   "metadata": {},
   "source": [
    "**2024-2025 Unibe Python cheatsheet**"
   ]
  },
  {
   "cell_type": "markdown",
   "id": "edeb707f",
   "metadata": {},
   "source": [
    "# Python cheatsheet\n",
    "----"
   ]
  },
  {
   "cell_type": "markdown",
   "id": "11b03ab8",
   "metadata": {},
   "source": [
    "### Tables of contents\n",
    "1. **Python Basics:**\n",
    "    - Comments\n",
    "    - Variables\n",
    "    - Types\n",
    "    - Operators\n",
    "    - Errors\n",
    "    - print() and input()\n",
    "    - Control flow (if,...)\n",
    "2. **Datastructures**\n",
    "    - List\n",
    "    - Tuples\n",
    "    - Dict\n",
    "    - Set\n",
    "3. **Function**\n",
    "4. **Modules**\n",
    "    - random\n",
    "    - math\n",
    "    - stats\n",
    "5. **File handling**\n",
    "    - pandas\n",
    "6. **Plotting Graphs**"
   ]
  },
  {
   "cell_type": "markdown",
   "id": "82562fe5",
   "metadata": {},
   "source": [
    "## Why Python?\n",
    "\n",
    "Python is a high-level, interpreted programming language known for its simplicity, readability, and versatility. It supports multiple programming paradigms, such as object-oriented, procedural, and functional programming, making it suitable for a wide range of applications like web development, data analysis, artificial intelligence, and more.\n",
    "\n",
    "## Key Advantages:\n",
    "\n",
    "- Readability: Python has a clean and simple syntax, making it easy to learn and use.\n",
    "\n",
    "- Versatility: Suitable for web, desktop, and scientific applications.\n",
    "\n",
    "- Cross-platform: Runs on Windows, macOS, Linux, and more.\n",
    "\n",
    "- Large Community: A vast library ecosystem and active community support.\n",
    "\n",
    "- Popularity: Consistently ranks as one of the most popular programming languages."
   ]
  },
  {
   "cell_type": "markdown",
   "id": "76b28bef",
   "metadata": {},
   "source": [
    "# 0 Getting Started\n",
    "\n",
    "### 0.1 Program Development\n",
    "\n",
    "Python is an interpreted language, meaning the code is executed line-by-line. You write Python programs in .py files and run them using the Python interpreter.\n",
    "\n",
    "Compiling: Converts source code into machine code (e.g., C++).\n",
    "\n",
    "Interpreting: Executes code directly without compiling (e.g., Python).\n",
    "\n",
    "### 0.2 Python Interpreter\n",
    "\n",
    "- Interactive Mode: Open the interpreter by typing python in your terminal (use python3 if Python 2 is installed).\n",
    "\n",
    "\n",
    "```python\n",
    ">>> 2 + 3\n",
    "5\n",
    ">>> print(\"Hello, Python!\")\n",
    "Hello, Python!\n",
    ">>> quit()\n",
    "```\n",
    "- Script Mode: Save code in a .py file and run using python script.py."
   ]
  },
  {
   "cell_type": "markdown",
   "id": "9a2233eb-1853-42a6-98d8-60371dec533f",
   "metadata": {},
   "source": [
    "# 1. Python Basics"
   ]
  },
  {
   "cell_type": "markdown",
   "id": "0592315a",
   "metadata": {},
   "source": [
    "## 1.1 Comments\n",
    "\n",
    "Program comments start with a hash character `\"#\"` and continue until the end of the line. There are no multi-line comment markers, but that can sometimes be faked with multi-line string literals."
   ]
  },
  {
   "cell_type": "markdown",
   "id": "c670b87c",
   "metadata": {},
   "source": [
    "*Examples:*"
   ]
  },
  {
   "cell_type": "code",
   "execution_count": 17,
   "id": "b2ce3edd",
   "metadata": {},
   "outputs": [],
   "source": [
    "# This is a comment.\n",
    "# This is another comment."
   ]
  },
  {
   "cell_type": "code",
   "execution_count": 18,
   "id": "20cade98",
   "metadata": {},
   "outputs": [],
   "source": [
    "x = 5 # This is a comment which follows some code."
   ]
  },
  {
   "cell_type": "code",
   "execution_count": 19,
   "id": "838fd96f",
   "metadata": {},
   "outputs": [
    {
     "data": {
      "text/plain": [
       "'This is\\na multi-line\\nstring literal\\nwhich can sometimes act like\\na\\ncomment.\\n'"
      ]
     },
     "execution_count": 19,
     "metadata": {},
     "output_type": "execute_result"
    }
   ],
   "source": [
    "'''This is\n",
    "a multi-line\n",
    "string literal\n",
    "which can sometimes act like\n",
    "a\n",
    "comment.\n",
    "'''"
   ]
  },
  {
   "cell_type": "markdown",
   "id": "f00d5796",
   "metadata": {},
   "source": [
    "## 1.2 Variables\n",
    "A variable in Python acts as a label or reference to a specific location in memory. This location can hold a value, which can change throughout the program. Think of it like a container with a name tag (the variable) that stores contents (the value)\n",
    "\n",
    "**Naming Rules:** \n",
    "\n",
    "- Must start with a letter or underscore.\n",
    "\n",
    "- Can only contain letters, digits, or underscores.\n",
    "\n",
    "- Case-sensitive (myVar and myvar are different).\n"
   ]
  },
  {
   "cell_type": "markdown",
   "id": "058e6dad",
   "metadata": {},
   "source": [
    "*Examples*:"
   ]
  },
  {
   "cell_type": "code",
   "execution_count": 20,
   "id": "81e22ae2",
   "metadata": {},
   "outputs": [
    {
     "data": {
      "text/plain": [
       "False"
      ]
     },
     "execution_count": 20,
     "metadata": {},
     "output_type": "execute_result"
    }
   ],
   "source": [
    "x = 23 #You can change the value of a variable troughout the program ex:\n",
    "x = 11 # Now x contain the value 11\n",
    "\n",
    "a = 5  # Integer\n",
    "b = 3.14  # Float\n",
    "name = \"Alice\"  # String\n",
    "is_active = True  # Boolean\n",
    "#Careful when choosing a name, as some names are forbidden/already used by python here is a list:\n",
    "\"\"\"\n",
    "False await else None break except True class finally and continue for\n",
    "as def from assert del global async elif if\n",
    "import pass in raise is return lambda try nonlocal while not with or yield\n",
    "\n",
    "\"\"\"\n",
    "\n",
    "#Python knows the difference between a majuscule or a minuscule :\n",
    "\n",
    "\"JOHN\" == \"john\" #this is a boolean that checks if JOHN or john is the same --> check 1.3 Types\n",
    "\n"
   ]
  },
  {
   "cell_type": "code",
   "execution_count": 21,
   "id": "348c93cc",
   "metadata": {},
   "outputs": [],
   "source": [
    "# None = \"not gonna work\" \n",
    "# None is reserved to python"
   ]
  },
  {
   "cell_type": "markdown",
   "id": "19dbbb91",
   "metadata": {},
   "source": [
    "*!! Be careful not to use `==` as it something else !*"
   ]
  },
  {
   "cell_type": "markdown",
   "id": "6548169c",
   "metadata": {},
   "source": [
    "## 1.3 Types\n",
    "main ones include:\n",
    "- string (\"hello\")\n",
    "- int (1,20,402)\n",
    "- float (2.33,2.0)\n",
    "- complex (10 + 5i)\n",
    "- bool (True, False)"
   ]
  },
  {
   "cell_type": "markdown",
   "id": "d7fd1f39",
   "metadata": {},
   "source": [
    "*You can se the type of a variable by using `type(x)`*"
   ]
  },
  {
   "cell_type": "markdown",
   "id": "90179b95",
   "metadata": {},
   "source": [
    "### Strings `str`\n",
    "- Represent text\n",
    "- String literals must be quoted. There are 3 quoting styles:\n",
    "   - single quote characters: `'hello'`\n",
    "   - double quote characters: `\"hello\"`\n",
    "   - triple quote characters: `'''hello'''` (three single quotes in a row) or `\"\"\"hello\"\"\"` (three double quote characters in a row)\n",
    "- The usual set of escape characters are supported (see `print()`function for more):\n",
    "   - `\\n` newline\n",
    "   - `\\t` tab\n",
    "   - `\\\\` backslash\n",
    "   - `\\'` single quote\n",
    "   - `\\\"` double quote\n",
    "   - and many more\n",
    "- Strings can be indexed to obtain individual characters, e.g. `s[5]` (the result of which is a string of length one).\n",
    "- Strings can be sliced meaning they can be cut in parts (see example)\n",
    "- Indices are zero-based (but you may also use negative indices to access items with respect to the right end of the string).\n",
    "\n",
    "   ->(0,1,2,3,4,5,...)\n",
    "- Strings are immutable: you cannot modify a string once it has been created.\n",
    "#### String Methods in Python\n",
    "\n",
    "| Method                       | Description                                                                                         | Example                                                   |\n",
    "|------------------------------|-----------------------------------------------------------------------------------------------------|-----------------------------------------------------------|\n",
    "| `st.find(s)`                 | Returns the position of the substring `s` in the string `st` (-1 if not found).                     | `\"Hello\".find(\"e\")` → `1`                                 |\n",
    "| `st.endswith(suffix)`        | Returns `True` if the string ends with the specified `suffix`, otherwise `False`.                   | `\"Hello\".endswith(\"lo\")` → `True`                         |\n",
    "| `st.startswith(prefix)`      | Returns `True` if the string starts with the specified `prefix`, otherwise `False`.                 | `\"Hello\".startswith(\"He\")` → `True`                       |\n",
    "| `st.count(sub)`              | Returns the number of non-overlapping occurrences of the substring `sub` in the string `st`.        | `\"Hello\".count(\"l\")` → `2`                                |\n",
    "| `st.lower()`                 | Returns a copy of the string with all uppercase letters converted to lowercase.                      | `\"HELLO\".lower()` → `\"hello\"`                              |\n",
    "| `st.upper()`                 | Returns a copy of the string with all lowercase letters converted to uppercase.                      | `\"hello\".upper()` → `\"HELLO\"`                              |\n",
    "| `st.replace(old, new)`       | Returns a copy of the string with all occurrences of `old` replaced by `new`.                       | `\"hello\".replace(\"e\", \"a\")` → `\"hallo\"`                    |\n",
    "| `st.strip([chars])`          | Returns a copy of the string with leading and trailing characters removed (whitespace by default).   | `\"  hello  \".strip()` → `\"hello\"`                          |\n",
    "| `st.split(sep)`              | Splits the string into a list of words using the specified separator `sep`.                         | `\"apple,banana,grape\".split(\",\")` → `[\"apple\", \"banana\", \"grape\"]` |\n",
    "\n",
    "\n",
    "*Example:*"
   ]
  },
  {
   "cell_type": "code",
   "execution_count": 22,
   "id": "99360163",
   "metadata": {},
   "outputs": [
    {
     "data": {
      "text/plain": [
       "str"
      ]
     },
     "execution_count": 22,
     "metadata": {},
     "output_type": "execute_result"
    }
   ],
   "source": [
    "type('Hello')"
   ]
  },
  {
   "cell_type": "code",
   "execution_count": 23,
   "id": "568b8bbf",
   "metadata": {},
   "outputs": [
    {
     "name": "stdout",
     "output_type": "stream",
     "text": [
      "Jo\n"
     ]
    }
   ],
   "source": [
    "name = \"John\"\n",
    "type(name)\n",
    "print(name[0:2:1]) # this is how to slice a string nameofthestring[i:j:k], i = start, j = end, k = step"
   ]
  },
  {
   "cell_type": "code",
   "execution_count": 24,
   "id": "60f1afdc",
   "metadata": {},
   "outputs": [
    {
     "name": "stdout",
     "output_type": "stream",
     "text": [
      "Hlo\n"
     ]
    }
   ],
   "source": [
    "strings = \"Hello, World!\"\n",
    "print(strings[0:5:2])  # Output: 'Hlo'\n"
   ]
  },
  {
   "cell_type": "code",
   "execution_count": 25,
   "id": "c4a61889",
   "metadata": {},
   "outputs": [
    {
     "name": "stdout",
     "output_type": "stream",
     "text": [
      "a\n",
      "r\n",
      "i\n"
     ]
    }
   ],
   "source": [
    "name = \"Marius Nowacki\"\n",
    "# indexes are 0,1,2,3,4,... or -14,-13,-12,..., -1\n",
    "print(name[1])#second letter\n",
    "print(name[-12])#second letter\n",
    "print(name[-1])#last letter"
   ]
  },
  {
   "cell_type": "markdown",
   "id": "370db7a5",
   "metadata": {},
   "source": [
    "#### Integers `int`\n",
    "\n",
    "- Represent whole negative and positive numbers (and zero).\n",
    "- The range of integer values is unbounded (up to some limit defined by how much memory you have on your computer).\n",
    "- `int(x)` will try to convert `x` to an integer, `x` can be another numeric type (including booleans) or a string. You may specify an optional base for the conversion\n",
    "\n",
    "*Example:*"
   ]
  },
  {
   "cell_type": "code",
   "execution_count": 26,
   "id": "64042a4c",
   "metadata": {},
   "outputs": [
    {
     "data": {
      "text/plain": [
       "int"
      ]
     },
     "execution_count": 26,
     "metadata": {},
     "output_type": "execute_result"
    }
   ],
   "source": [
    "type(123)"
   ]
  },
  {
   "cell_type": "code",
   "execution_count": 27,
   "id": "df612cc7",
   "metadata": {},
   "outputs": [
    {
     "data": {
      "text/plain": [
       "int"
      ]
     },
     "execution_count": 27,
     "metadata": {},
     "output_type": "execute_result"
    }
   ],
   "source": [
    "i = int('23')\n",
    "type(i)"
   ]
  },
  {
   "cell_type": "markdown",
   "id": "9a42a3c2",
   "metadata": {},
   "source": [
    "### Float `float`\n",
    "- Represent the real numbers (1.99, 2.549, ...)\n",
    "- Literals can be in ordinary notation or in exponential notation:\n",
    "    - Ordinary: `3.142`\n",
    "    - Exponential: 314.2e-2\n",
    "- Ordinary notation requires a point `\".\"`, but digits following the point are optional.\n",
    "- `float(x)`will try to convert x to a float\n",
    "\n",
    "*Example:*"
   ]
  },
  {
   "cell_type": "markdown",
   "id": "f15436a3",
   "metadata": {},
   "source": []
  },
  {
   "cell_type": "code",
   "execution_count": 28,
   "id": "b40774c7",
   "metadata": {},
   "outputs": [
    {
     "data": {
      "text/plain": [
       "float"
      ]
     },
     "execution_count": 28,
     "metadata": {},
     "output_type": "execute_result"
    }
   ],
   "source": [
    "type(2.9293)"
   ]
  },
  {
   "cell_type": "code",
   "execution_count": 29,
   "id": "32116369",
   "metadata": {},
   "outputs": [
    {
     "data": {
      "text/plain": [
       "True"
      ]
     },
     "execution_count": 29,
     "metadata": {},
     "output_type": "execute_result"
    }
   ],
   "source": [
    "3.142 == 314.2e-2"
   ]
  },
  {
   "cell_type": "markdown",
   "id": "6a41fa89",
   "metadata": {},
   "source": [
    "### Complex Numbers `complex` (U don't need to know)\n",
    "\n",
    "- Represent a finite approximation to the complex numbers.\n",
    "- Type: `complex`\n",
    "- A pair of floating point numbers: real +/- imaginary.\n",
    "- The real part is optional (defaults to 0). The imaginary part is followed immediately by the character `j`.\n",
    "\n",
    "*Examples:*"
   ]
  },
  {
   "cell_type": "code",
   "execution_count": 30,
   "id": "819a0be4",
   "metadata": {},
   "outputs": [
    {
     "data": {
      "text/plain": [
       "8j"
      ]
     },
     "execution_count": 30,
     "metadata": {},
     "output_type": "execute_result"
    }
   ],
   "source": [
    "5j + 3j"
   ]
  },
  {
   "cell_type": "code",
   "execution_count": 31,
   "id": "e7e4d223",
   "metadata": {},
   "outputs": [
    {
     "data": {
      "text/plain": [
       "complex"
      ]
     },
     "execution_count": 31,
     "metadata": {},
     "output_type": "execute_result"
    }
   ],
   "source": [
    "type(5j + 3j)"
   ]
  },
  {
   "cell_type": "markdown",
   "id": "e33453e5",
   "metadata": {},
   "source": [
    "### Booleans `bool`\n",
    "\n",
    "- Represent truth values\n",
    "- Values: `True`, `False`\n",
    "- Type: `bool`\n",
    "- Operators: `and`, `or`, `not`. See [Boolean Operations — and, or, not](https://docs.python.org/3/library/stdtypes.html#boolean-operations-and-or-not) in the Python documentation for more details.\n",
    "- `bool(x)` will convert `x` to a boolean. The heuristic is that empty things and zero-ish things are `False`, everything else is `True` (but the user can override for their own types). See [truth value testing](https://docs.python.org/3/library/stdtypes.html#truth-value-testing) in the Python documentation for more details.\n",
    "- False values:\n",
    "    - `False`\n",
    "    - `0` (zero integer)\n",
    "    - `0.0` (zero float)\n",
    "    - `{}` (empty dictionary)\n",
    "    - `()` (empty tuple)\n",
    "    - `[]` (empty list)\n",
    "    - `''` (empty string)\n",
    "    - `None`\n",
    "- True values:\n",
    "    - everything which is not considered False\n",
    "    \n",
    "In numerical contexts `True` is considered equal to the integer `1` and `False` is considered equal to the integer `0`. However, these conversions are a common cause of bugs and should be avoided.\n",
    "\n",
    "Python will automatically test the truthiness of a value if it appears in a boolean context.\n",
    "\n",
    "*Examples:*"
   ]
  },
  {
   "cell_type": "code",
   "execution_count": 32,
   "id": "7ee4992f",
   "metadata": {},
   "outputs": [
    {
     "data": {
      "text/plain": [
       "False"
      ]
     },
     "execution_count": 32,
     "metadata": {},
     "output_type": "execute_result"
    }
   ],
   "source": [
    "not True"
   ]
  },
  {
   "cell_type": "code",
   "execution_count": 33,
   "id": "c7c5e1db",
   "metadata": {},
   "outputs": [
    {
     "data": {
      "text/plain": [
       "True"
      ]
     },
     "execution_count": 33,
     "metadata": {},
     "output_type": "execute_result"
    }
   ],
   "source": [
    "# empty is converted to False in boolean contexts\n",
    "not ()"
   ]
  },
  {
   "cell_type": "code",
   "execution_count": 34,
   "id": "31c6b90b",
   "metadata": {},
   "outputs": [
    {
     "data": {
      "text/plain": [
       "False"
      ]
     },
     "execution_count": 34,
     "metadata": {},
     "output_type": "execute_result"
    }
   ],
   "source": [
    "5 == 10"
   ]
  },
  {
   "cell_type": "markdown",
   "id": "ffc259a1",
   "metadata": {},
   "source": [
    "## 1.4 Operators"
   ]
  },
  {
   "cell_type": "markdown",
   "id": "4523ff42",
   "metadata": {},
   "source": [
    "\n",
    "### Arithmetic Operators\n",
    "| Name | Operation | Precedence | Associativity | Notes |\n",
    "|:----:|-----------|------------|---------------|-------|\n",
    "| +    | add       | low        | left          | Can also be used to concatenate strings together. |\n",
    "| *    | multiply  | medium     | left          |        |\n",
    "| -    | subtract  | low        | left          |        |\n",
    "| /    | divide    | medium     | left          | In Python 3 the result is always a floating point number. In Python 2 the result is an integer if both operands are integers. |\n",
    "| //   | floor-divide | medium  | left          | divide then floor, result is an integer |\n",
    "| `**` | exponent  | high       | right         |        |\n",
    "| %    | modulus   | medium     | left          | remainder after division (Tips: use that to check if something is even or odd)|"
   ]
  },
  {
   "cell_type": "markdown",
   "id": "ecd5839a",
   "metadata": {},
   "source": [
    "### Relational Operators"
   ]
  },
  {
   "cell_type": "markdown",
   "id": "b6815bcf",
   "metadata": {},
   "source": [
    "| Name   | Operation                | Notes                                                                 |\n",
    "|:------:|--------------------------|----------------------------------------------------------------------|\n",
    "| ==     | equals                   | Checks if two values are equal. Can also be used to compare strings. |\n",
    "| !=     | not equals               | Checks if two values are not equal.                                  |\n",
    "| <      | less than                | Checks if the left value is less than the right value.               |\n",
    "| >      | greater than             | Checks if the left value is greater than the right value.            |\n",
    "| <=     | less than or equal to    | Checks if the left value is less than or equal to the right value.   |\n",
    "| >=     | greater than or equal to | Checks if the left value is greater than or equal to the right value.|\n",
    "| `is`   | identity check           | Checks if two references point to the same object.                   |\n",
    "| `is not` | negated identity check   | Checks if two references do not point to the same object.            |\n"
   ]
  },
  {
   "cell_type": "markdown",
   "id": "c5dba436",
   "metadata": {},
   "source": [
    "### Logical Operators\n",
    "| Operator | Name | Example                    |\n",
    "|----------|------|----------------------------|\n",
    "| and      | AND  | True and False -> False     |\n",
    "| or       | OR   | True or False -> True       |\n",
    "| not      | NOT  | not True -> False           |"
   ]
  },
  {
   "cell_type": "markdown",
   "id": "a0cbe0a0",
   "metadata": {},
   "source": [
    "#### Tips to assign faster (used a lot in `for`, `while`,...)\n",
    "| Operator | Meaning                | Equivalent            |\n",
    "|----------|------------------------|-----------------------|\n",
    "| `x += y` | Add and assign         | `x = x + y`          |\n",
    "| `x -= y` | Subtract and assign    | `x = x - y`          |\n",
    "| `x *= y` | Multiply and assign    | `x = x * y`          |\n",
    "| `x /= y` | Divide and assign      | `x = x / y`          |\n"
   ]
  },
  {
   "cell_type": "code",
   "execution_count": 35,
   "id": "b99d2bd9",
   "metadata": {},
   "outputs": [
    {
     "name": "stdout",
     "output_type": "stream",
     "text": [
      "True\n",
      "False\n",
      "True\n",
      "False\n",
      "True\n",
      "False\n",
      "True\n",
      "False\n",
      "True\n",
      "False\n",
      "True\n",
      "False\n",
      "True\n",
      "False\n",
      "True\n",
      "False\n"
     ]
    }
   ],
   "source": [
    "# Examples for each operation\n",
    "\n",
    "# 1. Equals (==)\n",
    "print(5 == 5)  # True: 5 is equal to 5\n",
    "print(\"hello\" == \"world\")  # False: strings are not equal\n",
    "\n",
    "# 2. Not Equals (!=)\n",
    "print(5 != 3)  # True: 5 is not equal to 3\n",
    "print(\"apple\" != \"apple\")  # False: strings are equal\n",
    "\n",
    "# 3. Less Than (<)\n",
    "print(3 < 5)  # True: 3 is less than 5\n",
    "print(7 < 4)  # False: 7 is not less than 4\n",
    "\n",
    "# 4. Greater Than (>)\n",
    "print(5 > 3)  # True: 5 is greater than 3\n",
    "print(2 > 4)  # False: 2 is not greater than 4\n",
    "\n",
    "# 5. Less Than or Equal To (<=)\n",
    "print(3 <= 3)  # True: 3 is equal to 3\n",
    "print(4 <= 2)  # False: 4 is not less than or equal to 2\n",
    "\n",
    "# 6. Greater Than or Equal To (>=)\n",
    "print(5 >= 4)  # True: 5 is greater than 4\n",
    "print(2 >= 6)  # False: 2 is not greater than or equal to 6\n",
    "\n",
    "# 7. Identity Check (is)\n",
    "a = [1, 2, 3]\n",
    "b = a\n",
    "c = [1, 2, 3]\n",
    "print(a is b)  # True: a and b refer to the same object\n",
    "print(a is c)  # False: a and c have the same content but are different objects\n",
    "\n",
    "# 8. Negated Identity Check (is not)\n",
    "print(a is not c)  # True: a and c are not the same object\n",
    "print(a is not b)  # False: a and b are the same object\n"
   ]
  },
  {
   "cell_type": "code",
   "execution_count": 36,
   "id": "b98574a3",
   "metadata": {},
   "outputs": [
    {
     "data": {
      "text/plain": [
       "'strings'"
      ]
     },
     "execution_count": 36,
     "metadata": {},
     "output_type": "execute_result"
    }
   ],
   "source": [
    "\"str\"+\"ings\""
   ]
  },
  {
   "cell_type": "code",
   "execution_count": 37,
   "id": "6f313b25",
   "metadata": {},
   "outputs": [
    {
     "data": {
      "text/plain": [
       "3"
      ]
     },
     "execution_count": 37,
     "metadata": {},
     "output_type": "execute_result"
    }
   ],
   "source": [
    "10//3"
   ]
  },
  {
   "cell_type": "code",
   "execution_count": 38,
   "id": "34b7caf7",
   "metadata": {},
   "outputs": [
    {
     "data": {
      "text/plain": [
       "3.3333333333333335"
      ]
     },
     "execution_count": 38,
     "metadata": {},
     "output_type": "execute_result"
    }
   ],
   "source": [
    "10/3"
   ]
  },
  {
   "cell_type": "code",
   "execution_count": 39,
   "id": "9f150ad5",
   "metadata": {},
   "outputs": [
    {
     "data": {
      "text/plain": [
       "1"
      ]
     },
     "execution_count": 39,
     "metadata": {},
     "output_type": "execute_result"
    }
   ],
   "source": [
    "10%3"
   ]
  },
  {
   "cell_type": "markdown",
   "id": "ae11459b",
   "metadata": {},
   "source": [
    "## 1.5 Errors:\n",
    "- Syntax Errors: These happen when your code breaks the rules of Python grammar. Like making a grammatical mistake in English. For example, forgetting a colon after an if statement. These are usually caught when you try to run the program.\n",
    "\n",
    "- Semantic Errors: These happen when your code is grammatically correct but doesn't do what you intended. This is due to flawed logic: for example, dividing by zero. These are trickier to find because the program might still run, but with wrong results.\n",
    "Debugging is the process of finding and fixing logical errors in your code."
   ]
  },
  {
   "cell_type": "markdown",
   "id": "6de9693e",
   "metadata": {},
   "source": [
    "## 1.6 `Print()` and `Input()`"
   ]
  },
  {
   "cell_type": "markdown",
   "id": "58539574",
   "metadata": {},
   "source": [
    "- The `print()` \n",
    "    - function is used to display information on the computer's console. \n",
    "    - You can use it to output text, numbers, or the values of variables.\n",
    "    - From `str`: \n",
    "        - `\\n` newline\n",
    "        - `\\t` tab\n",
    "        - `\\\\` backslash\n",
    "        - `\\'` single quote\n",
    "        - `\\\"` double quote\n",
    "    - `print(..., end=\"\")`\n",
    "    Purpose: Changes what is printed at the end of the print() statement (default: \\n).\n",
    "    - `print(..., sep=\"\")`\n",
    "Purpose: Changes the separator between multiple arguments (default: space \" \").\n",
    "- The `input()` \n",
    "    - function allows a program to receive information from the user. \n",
    "    - It displays a message prompting the user for input and then waits for the user to type something and press Enter. \n",
    "    - **It returns the user's input as a string.**"
   ]
  },
  {
   "cell_type": "code",
   "execution_count": 40,
   "id": "a234292a",
   "metadata": {},
   "outputs": [
    {
     "name": "stdout",
     "output_type": "stream",
     "text": [
      "hello\n",
      "10\n",
      "25\n",
      "Hi im Roger and I am 40 years old\n",
      "this is a new line\n",
      "down here then a\ttab etc...\n"
     ]
    }
   ],
   "source": [
    "#display text\n",
    "print(\"hello\")\n",
    "#display numbers\n",
    "print(10)\n",
    "\n",
    "#variables\n",
    "x = 25\n",
    "print(x)\n",
    "\n",
    "#multiple\n",
    "age = 40\n",
    "print(\"Hi im Roger and I am\",age,\"years old\")\n",
    "print(\"this is a new line\\ndown here then a\\ttab etc...\")"
   ]
  },
  {
   "cell_type": "code",
   "execution_count": 41,
   "id": "b602aee5",
   "metadata": {},
   "outputs": [
    {
     "name": "stdout",
     "output_type": "stream",
     "text": [
      "Hello World*la\n",
      "maison\n"
     ]
    }
   ],
   "source": [
    "print(\"Hello World\", end=\"*\")  # Adds a * at the end\n",
    "print(\"la\")# default is a new line (\\n)\n",
    "print(\"maison\") "
   ]
  },
  {
   "cell_type": "code",
   "execution_count": 42,
   "id": "b5159347",
   "metadata": {},
   "outputs": [
    {
     "name": "stdout",
     "output_type": "stream",
     "text": [
      "Hello-World\n",
      "la maison\n"
     ]
    }
   ],
   "source": [
    "print(\"Hello\", \"World\", sep=\"-\")  # Joins arguments with \"-\"\n",
    "print(\"la\",\"maison\") # default is space"
   ]
  },
  {
   "cell_type": "code",
   "execution_count": 43,
   "id": "918488af",
   "metadata": {},
   "outputs": [],
   "source": [
    "#if input needs to be an int or a float number \n",
    "# ex : age = int(input(\"enter your age\"))"
   ]
  },
  {
   "cell_type": "markdown",
   "id": "c2c31b74",
   "metadata": {},
   "source": [
    "#### Tips:\n",
    "**The `f\"\"` syntax in Python, also known as an f-string (formatted string literal), is a concise and readable way to embed expressions or variables inside a string.**\n",
    "F-strings can evaluate expressions and format numbers or text on the fly"
   ]
  },
  {
   "cell_type": "code",
   "execution_count": 44,
   "id": "d6613395",
   "metadata": {},
   "outputs": [
    {
     "name": "stdout",
     "output_type": "stream",
     "text": [
      "la force de gravitation est égale à la masse=10 * l'accel=9.81 = 98.10000000000001\n"
     ]
    }
   ],
   "source": [
    "#print(f\"{variables}\") !!! \n",
    "\n",
    "masse = 10\n",
    "accel = 9.81\n",
    "fnewt = masse * accel\n",
    "\n",
    "print(f\"la force de gravitation est égale à la {masse=} * l'{accel=} = {fnewt}\")\n"
   ]
  },
  {
   "cell_type": "markdown",
   "id": "43148664",
   "metadata": {},
   "source": [
    "## 1.7 Control Flow Statements\n",
    "Control flow statements let you control the order in which your code runs. These include `if`, `while`, and `for` loops."
   ]
  },
  {
   "cell_type": "markdown",
   "id": "f5f4c5db",
   "metadata": {},
   "source": [
    "### 1. `if` Statement (Conditional)\n",
    "The if statement is used to execute code only if a certain condition is true."
   ]
  },
  {
   "cell_type": "code",
   "execution_count": 45,
   "id": "44e98539",
   "metadata": {},
   "outputs": [
    {
     "name": "stdout",
     "output_type": "stream",
     "text": [
      "You are an adult.\n"
     ]
    }
   ],
   "source": [
    "age = 18\n",
    "if age >= 18:\n",
    "    print(\"You are an adult.\")  # This will print because the condition is True\n"
   ]
  },
  {
   "cell_type": "markdown",
   "id": "b9b7a9a5",
   "metadata": {},
   "source": [
    "#### 1.1 `else` Statement\n",
    "The else statement runs code if the condition is False."
   ]
  },
  {
   "cell_type": "code",
   "execution_count": 46,
   "id": "efcfd158",
   "metadata": {},
   "outputs": [
    {
     "name": "stdout",
     "output_type": "stream",
     "text": [
      "You are not an adult.\n"
     ]
    }
   ],
   "source": [
    "age = 16\n",
    "if age >= 18:\n",
    "    print(\"You are an adult.\")\n",
    "else:\n",
    "    print(\"You are not an adult.\")  # Output: \"You are not an adult.\"\n"
   ]
  },
  {
   "cell_type": "markdown",
   "id": "606a648b",
   "metadata": {},
   "source": [
    "### 1.3 `elif` Statement (Short for \"else if\")\n",
    "The elif statement is used to check multiple conditions. If the if condition is False, it checks the elif conditions one by one."
   ]
  },
  {
   "cell_type": "code",
   "execution_count": 47,
   "id": "b4e07ab4",
   "metadata": {},
   "outputs": [
    {
     "name": "stdout",
     "output_type": "stream",
     "text": [
      "You are an adult, but not of drinking age.\n"
     ]
    }
   ],
   "source": [
    "age = 20\n",
    "if age < 18:\n",
    "    print(\"You are a minor.\")\n",
    "elif age < 21:\n",
    "    print(\"You are an adult, but not of drinking age.\")  # Output: \"You are an adult, but not of drinking age.\"\n",
    "else:\n",
    "    print(\"You are of legal drinking age.\")\n"
   ]
  },
  {
   "cell_type": "markdown",
   "id": "709e988c",
   "metadata": {},
   "source": [
    "### 2. `while` Loop (Repeated Execution)\n",
    "The while loop repeats a block of code as long as a condition is true.\n",
    "- The while loop will keep running as long as the condition remains true. Once it becomes false, the loop stops."
   ]
  },
  {
   "cell_type": "code",
   "execution_count": 48,
   "id": "f4075a1c",
   "metadata": {},
   "outputs": [
    {
     "name": "stdout",
     "output_type": "stream",
     "text": [
      "0\n",
      "1\n",
      "2\n"
     ]
    },
    {
     "data": {
      "text/plain": [
       "'\\nwhile True:\\n    user_input = input(\"Enter \\'exit\\' to quit: \")\\n    if user_input == \\'exit\\':\\n        print(\"Exiting...\")\\n        break  # This breaks the infinite loop when \\'exit\\' is entered\\n\\n'"
      ]
     },
     "execution_count": 48,
     "metadata": {},
     "output_type": "execute_result"
    }
   ],
   "source": [
    "count = 0\n",
    "while count < 3:\n",
    "    print(count)  # This will print 0, 1, 2\n",
    "    count += 1     # Increments count by 1 after each iteration\n",
    "\n",
    "# Common use -> infinite input\n",
    "\"\"\"\n",
    "while True:\n",
    "    user_input = input(\"Enter 'exit' to quit: \")\n",
    "    if user_input == 'exit':\n",
    "        print(\"Exiting...\")\n",
    "        break  # This breaks the infinite loop when 'exit' is entered\n",
    "\n",
    "\"\"\""
   ]
  },
  {
   "cell_type": "markdown",
   "id": "3bd43f17",
   "metadata": {},
   "source": [
    "### 3. `for` Loop (Iterating over Sequences)\n",
    "The for loop is used to iterate over a sequence (like a list, tuple, or range) and execute code for each item in that sequence."
   ]
  },
  {
   "cell_type": "code",
   "execution_count": 49,
   "id": "0da7254a",
   "metadata": {},
   "outputs": [
    {
     "name": "stdout",
     "output_type": "stream",
     "text": [
      "0\n",
      "2\n",
      "4\n",
      "6\n",
      "8\n"
     ]
    }
   ],
   "source": [
    "for i in range(0, 10, 2):\n",
    "    print(i)\n"
   ]
  },
  {
   "cell_type": "code",
   "execution_count": 50,
   "id": "b87fc80a",
   "metadata": {},
   "outputs": [
    {
     "name": "stdout",
     "output_type": "stream",
     "text": [
      "apple\n",
      "banana\n",
      "cherry\n"
     ]
    }
   ],
   "source": [
    "fruits = [\"apple\", \"banana\", \"cherry\"]\n",
    "for fruit in fruits:\n",
    "    print(fruit)  # This will print \"apple\", \"banana\", and \"cherry\""
   ]
  },
  {
   "cell_type": "markdown",
   "id": "e09a7d2c",
   "metadata": {},
   "source": [
    "# 2. Datastructure (`list`,`dict`,...)"
   ]
  },
  {
   "cell_type": "markdown",
   "id": "bf0a3a79",
   "metadata": {},
   "source": [
    "## 2.1 List"
   ]
  },
  {
   "cell_type": "markdown",
   "id": "86d013ed",
   "metadata": {},
   "source": [
    "- A list is a versatile data structure used to store an ordered collection of items.\n",
    "- **Creation**: Lists are created using square brackets [], with items separated by commas:\n",
    "- **Data Types**: Lists can contain items of various data types, including integers, floats, strings, booleans, and even other lists.\n",
    "- **Accessing Elements**:\n",
    "\n",
    "    - Indexing: You can access individual items using their index, starting from 0 for the first element.\n",
    "\n",
    "    - Negative Indexing: Access elements from the end using negative indices:\n",
    "\n",
    "- **Slicing**: Extract a portion of the list (a sub-list) using slicing:\n",
    "- **Mutability**: Lists are mutable, allowing modification after creation:\n",
    "\n",
    "    - Changing Values:\n",
    "\n",
    "    - Adding Items:\n",
    "\n",
    "    - Removing Items:\n",
    "\n",
    "- **Iteration**: Use loops to process each item in a list sequentially:"
   ]
  },
  {
   "cell_type": "code",
   "execution_count": 51,
   "id": "cd208091",
   "metadata": {},
   "outputs": [
    {
     "name": "stdout",
     "output_type": "stream",
     "text": [
      "[1, 2, 3, 4, 5, 6, 7] \t ['a', 'b', 'c', 'd', 'e']\n",
      "---------------------------------------------\n",
      "1\n",
      "1 \n",
      "\n",
      "1 \n",
      "\n",
      "2 \n",
      "\n",
      "3 \n",
      "\n",
      "4 \n",
      "\n",
      "5 \n",
      "\n",
      "6 \n",
      "\n",
      "7 \n",
      "\n",
      "a\n",
      "b\n",
      "c\n",
      "d\n",
      "e\n"
     ]
    }
   ],
   "source": [
    "#Creation\n",
    "\n",
    "mylist = [1,2,3,4,5,6,7] #remember that the name `list` cannot be used\n",
    "myotherlist = list(\"abcde\") #this is another way of creating a list \n",
    "# !!! strings act as a list (check types), the function list() only takes 1 argument (here str:\"abcde\") so it only works like that\n",
    "print(mylist,\"\\t\",myotherlist)\n",
    "\n",
    "print(\"---------------------------------------------\")\n",
    "#Accessing elements:\n",
    "\n",
    "print(mylist[0]) #index in a list begins with zero ex. in mylist --> (0,1,2,3,4,5,6)\n",
    "print(mylist[-7],\"\\n\") #or (-7,-6,-5,-4,-3,-2,-1)\n",
    "\n",
    "for val in mylist:\n",
    "    print(val,\"\\n\")\n",
    "for letters in myotherlist:\n",
    "    print(letters)"
   ]
  },
  {
   "cell_type": "code",
   "execution_count": 52,
   "id": "cc0fd97d",
   "metadata": {},
   "outputs": [
    {
     "name": "stdout",
     "output_type": "stream",
     "text": [
      "[2, 3, 4]\n",
      "[3, 4, 5, 6, 7, 8, 9]\n",
      "[0, 1, 2, 3, 4, 5]\n",
      "[0, 2, 4, 6, 8]\n",
      "[9, 8, 7, 6, 5, 4, 3, 2, 1, 0]\n"
     ]
    }
   ],
   "source": [
    "#Slicing example\n",
    "mylist = [0, 1, 2, 3, 4, 5, 6, 7, 8, 9]\n",
    "\n",
    "# Slice from index 2 to 5 (not including 5)\n",
    "print(mylist[2:5])  # Output: [2, 3, 4]\n",
    "\n",
    "# Slice from index 3 to the end of the list\n",
    "print(mylist[3:])   # Output: [3, 4, 5, 6, 7, 8, 9]\n",
    "\n",
    "# Slice from the beginning up to index 6 (not including 6)\n",
    "print(mylist[:6])   # Output: [0, 1, 2, 3, 4, 5]\n",
    "\n",
    "# Slice with a step of 2 (every second element from index 0 to the end)\n",
    "print(mylist[::2])  # Output: [0, 2, 4, 6, 8]\n",
    "\n",
    "# Slice with a negative step (reverse the list)\n",
    "print(mylist[::-1]) # Output: [9, 8, 7, 6, 5, 4, 3, 2, 1, 0]\n"
   ]
  },
  {
   "cell_type": "code",
   "execution_count": 53,
   "id": "c8758d7d",
   "metadata": {},
   "outputs": [
    {
     "name": "stdout",
     "output_type": "stream",
     "text": [
      "[1, 2, 3, 4, 5, 6]\n"
     ]
    }
   ],
   "source": [
    "#List concatenation \n",
    "# Two lists\n",
    "list1 = [1, 2, 3]\n",
    "list2 = [4, 5, 6]\n",
    "\n",
    "# Concatenate the lists\n",
    "concatenated_list = list1 + list2\n",
    "\n",
    "print(concatenated_list)  # Output: [1, 2, 3, 4, 5, 6]\n"
   ]
  },
  {
   "cell_type": "markdown",
   "id": "3e28fdd9",
   "metadata": {},
   "source": [
    "**The `range(start, end, step)` function in Python generates a sequence of numbers. It’s commonly used in loops and is a convenient way to create numeric ranges.**\n",
    "- start (optional): The starting value of the range (inclusive). Defaults to 0 if not provided.\n",
    "- stop (required): The end value of the range (exclusive).\n",
    "- step (optional): The increment (or decrement) between numbers. Defaults to 1 if not provided"
   ]
  },
  {
   "cell_type": "code",
   "execution_count": 54,
   "id": "260159d5",
   "metadata": {},
   "outputs": [
    {
     "name": "stdout",
     "output_type": "stream",
     "text": [
      "[0, 1, 2, 3, 4, 5, 6, 7]\n"
     ]
    }
   ],
   "source": [
    "mylistwithrange = list(range(0,8))\n",
    "print(mylistwithrange)"
   ]
  },
  {
   "cell_type": "markdown",
   "id": "3bed8521",
   "metadata": {},
   "source": [
    "### Some useful function:"
   ]
  },
  {
   "cell_type": "markdown",
   "id": "b0c2f6a1",
   "metadata": {},
   "source": [
    "| Function                  | Description                                                                            | Example                                                                 |\n",
    "|---------------------------|----------------------------------------------------------------------------------------|-------------------------------------------------------------------------|\n",
    "| `range()`                 | Generates a sequence of numbers within a specified range.                             | `range(0, 5)` produces numbers from 0 to 4.                           |\n",
    "| `namelist.append(x)`      | Adds an item `x` to the end of the list `namelist`.                                   | `namelist = [1, 2]; namelist.append(3)` -> `[1, 2, 3]`                |\n",
    "| `namelist.insert(i, x)`   | Inserts the item `x` at position `i` in the list `namelist`.                         | `namelist = [1, 3]; namelist.insert(1, 2)` -> `[1, 2, 3]`              |\n",
    "| `namelist.pop(i)`         | Removes and returns the item at position `i` in the list `namelist`. If no index is given, removes the last item. | `namelist = [1, 2, 3]; namelist.pop(1)` -> `[1, 3]`, returns `2`       |\n",
    "| `namelist.remove(x)`      | Removes the first occurrence of item `x` in the list `namelist`.                      | `namelist = [1, 2, 3, 2]; namelist.remove(2)` -> `[1, 3, 2]`           |\n",
    "| `namelist.extend(list2)`  | Adds all elements from `list2` to the end of `namelist`.                             | `namelist = [1, 2]; namelist.extend([3, 4])` -> `[1, 2, 3, 4]`        |\n",
    "| `namelist.sort()`         | Sorts the elements of `namelist` in ascending order.                                 | `namelist = [3, 1, 2]; namelist.sort()` -> `[1, 2, 3]`                |\n",
    "| `namelist.reverse()`      | Reverses the order of elements in `namelist`.                                         | `namelist = [1, 2, 3]; namelist.reverse()` -> `[3, 2, 1]`              |\n",
    "| `namelist.count(x)`       | Returns the number of times item `x` appears in `namelist`.                           | `namelist = [1, 2, 2, 3]; namelist.count(2)` -> `2`                    |\n",
    "| `namelist.index(x)`       | Returns the index of the first occurrence of item `x` in `namelist`.                  | `namelist = [1, 2, 3]; namelist.index(2)` -> `1`                        |\n",
    "| `len()`                   | Returns the number of elements in an object (e.g., list, string, tuple, etc.).        | `len([1, 2, 3])` -> `3`                                               |\n",
    "| `max()`                   | Returns the largest item in an iterable or the largest of multiple arguments.         | `max([1, 3, 2])` -> `3`                                                |\n",
    "| `min()`                   | Returns the smallest item in an iterable or the smallest of multiple arguments.       | `min([1, 3, 2])` -> `1`                                                |\n"
   ]
  },
  {
   "cell_type": "markdown",
   "id": "440a9810",
   "metadata": {},
   "source": [
    "### List Comprehension in Python\n",
    "List comprehension is a quick way to create a new list by applying an operation to each item in an existing list or range.\n",
    "- `[operation for item in iterable]`"
   ]
  },
  {
   "cell_type": "code",
   "execution_count": 55,
   "id": "c7839523",
   "metadata": {},
   "outputs": [
    {
     "name": "stdout",
     "output_type": "stream",
     "text": [
      "[0, 1, 4, 9, 16]\n"
     ]
    }
   ],
   "source": [
    "squares = [x**2 for x in range(5)]\n",
    "print(squares)  # Output: [0, 1, 4, 9, 16]"
   ]
  },
  {
   "cell_type": "code",
   "execution_count": 56,
   "id": "3cceb20b",
   "metadata": {},
   "outputs": [
    {
     "name": "stdout",
     "output_type": "stream",
     "text": [
      "[0, 2, 4, 6, 8]\n"
     ]
    }
   ],
   "source": [
    "even_numbers = [x for x in range(10) if x % 2 == 0]\n",
    "print(even_numbers)  # Output: [0, 2, 4, 6, 8]"
   ]
  },
  {
   "cell_type": "markdown",
   "id": "3d0e54fe",
   "metadata": {},
   "source": [
    "### List of list example 2D\n",
    "A 2D list (or two-dimensional list) is a list of lists. It is often used to represent data in a matrix-like structure (rows and columns). Each element in a 2D list can be accessed using two indices: the first for the row and the second for the column.\n"
   ]
  },
  {
   "cell_type": "code",
   "execution_count": 57,
   "id": "ebdac3f6",
   "metadata": {},
   "outputs": [
    {
     "name": "stdout",
     "output_type": "stream",
     "text": [
      "6\n"
     ]
    }
   ],
   "source": [
    "matrix = [\n",
    "    [1, 2, 3],\n",
    "    [4, 5, 6],\n",
    "    [7, 8, 9]\n",
    "]\n",
    "\n",
    "# Accessing the element in the second row, third column\n",
    "print(matrix[1][2])  # Output: 6\n"
   ]
  },
  {
   "cell_type": "code",
   "execution_count": 58,
   "id": "04bed8e2",
   "metadata": {},
   "outputs": [
    {
     "name": "stdout",
     "output_type": "stream",
     "text": [
      "1 2 3 \n",
      "4 5 6 \n",
      "7 8 9 \n"
     ]
    }
   ],
   "source": [
    "matrix = [\n",
    "    [1, 2, 3],\n",
    "    [4, 5, 6],\n",
    "    [7, 8, 9]\n",
    "]\n",
    "\n",
    "# Loop through each row and each element within the row\n",
    "for row in matrix:\n",
    "    for element in row:\n",
    "        print(element, end=\" \")\n",
    "    print()  # For new line after each row\n"
   ]
  },
  {
   "cell_type": "code",
   "execution_count": 59,
   "id": "cf0a6603",
   "metadata": {},
   "outputs": [
    {
     "name": "stdout",
     "output_type": "stream",
     "text": [
      "[[0, 0, 0], [0, 0, 0], [0, 0, 0]]\n"
     ]
    }
   ],
   "source": [
    "# Creating a 3x3 matrix with initial values of 0\n",
    "matrix = [[0 for _ in range(3)] for _ in range(3)]\n",
    "print(matrix)\n"
   ]
  },
  {
   "cell_type": "markdown",
   "id": "4baa7283",
   "metadata": {},
   "source": [
    "## 2.2 Tuples"
   ]
  },
  {
   "cell_type": "markdown",
   "id": "29c655f5",
   "metadata": {},
   "source": [
    "- Represent **immutable** ordered sequences of values.\n",
    "- Very much like lists except they cannot be modified once created.\n",
    "- Like lists, tuples can contain elements of different data types\n",
    "- You can use some of the same operations on tuples that you use on lists\n",
    "- Type: `tuple`\n",
    "- Tuples are defined by enclosing a sequence of values within parentheses `()`: `(1, 2, 3)`\n",
    "- They can be used as keys in dictionaries (unlike lists).\n",
    "- Tuple Packing and Unpacking: Python allows you to create a tuple implicitly by assigning multiple values to a single variable, which is called \"tuple packing\". For example, `t = 12345, 54321, \"Hallo!\"` packs the values into the tuple `t`. You can then \"unpack\" the tuple by assigning its values to multiple variables, like this: `x, y, z = t`.\n",
    "- Functions can return multiple values by packing them into a tuple."
   ]
  },
  {
   "cell_type": "code",
   "execution_count": 60,
   "id": "3ebe7e78",
   "metadata": {},
   "outputs": [
    {
     "data": {
      "text/plain": [
       "tuple"
      ]
     },
     "execution_count": 60,
     "metadata": {},
     "output_type": "execute_result"
    }
   ],
   "source": [
    "x = (1, True, 'hello')\n",
    "type(x)"
   ]
  },
  {
   "cell_type": "code",
   "execution_count": 61,
   "id": "5e95d5ca",
   "metadata": {},
   "outputs": [
    {
     "name": "stdout",
     "output_type": "stream",
     "text": [
      "Alice\n",
      "25\n",
      "Engineer\n"
     ]
    }
   ],
   "source": [
    "my_tuple = (\"Alice\", 25, \"Engineer\")\n",
    "name, age, job = my_tuple\n",
    "print(name)  # Output: Alice\n",
    "print(age)   # Output: 25\n",
    "print(job)   # Output: Engineer\n"
   ]
  },
  {
   "cell_type": "code",
   "execution_count": 62,
   "id": "3051768c",
   "metadata": {},
   "outputs": [],
   "source": [
    "my_tuple = (1, 2, 3)\n",
    "# my_tuple[0] = 10  # This will raise an error"
   ]
  },
  {
   "cell_type": "markdown",
   "id": "f2356de8",
   "metadata": {},
   "source": [
    "## 2.3 Dictionary\n",
    "A dictionary is a collection of key-value pairs, like a real dictionary maps words to meanings."
   ]
  },
  {
   "cell_type": "markdown",
   "id": "7c1c4abd",
   "metadata": {},
   "source": [
    "- key-value pairs\n",
    "- Keys are unique and immutable (e.g., strings, numbers, tuples). !!so not list!!\n",
    "- Values can be of any data type (e.g., strings, lists, other dictionaries).\n",
    "- Type: `dict`\n",
    "- Dictionaries are defined using curly braces `{}`, with key-value pairs separated by colons. For example: `my_dict = {\"name\": \"Alice\", \"age\": 30, \"city\": \"New York\"}` would create a dictionary with keys \"name\", \"age\", and \"city\", and their respective values.\n",
    "- Dictionaries can be indexed by keys. If the key exists in the dictionary its corresponding value is returned, otherwise a `KeyError` exception is raised.\n",
    "- Iterating over a dictionary yields one key at a time.\n",
    "- test if an object is a key of a dictionary using the `in` operator.\n"
   ]
  },
  {
   "cell_type": "markdown",
   "id": "11a69ab5",
   "metadata": {},
   "source": [
    "### Some Dictionary Functions\n",
    "\n",
    "| **Function/Operation**        | **Description**                                                                                  | **Example**                                                                                     | **Output**                       |\n",
    "|--------------------------------|--------------------------------------------------------------------------------------------------|-------------------------------------------------------------------------------------------------|-----------------------------------|\n",
    "| `d.get(key, default)`          | Returns the value for the key if it exists, else returns the default value.                     | `d = {\"a\": 1}; d.get(\"a\", 0)`                                                                   | `1`                              |\n",
    "| `d[key]`                       | Accesses the value for the key. Raises a `KeyError` if the key doesn’t exist.                   | `d = {\"a\": 1}; d[\"a\"]`                                                                          | `1`                              |\n",
    "| `del d[key]`                   | Deletes the key-value pair. Raises a `KeyError` if the key doesn’t exist.                       | `d = {\"a\": 1}; del d[\"a\"]; print(d)`                                                            | `{}`                             |\n",
    "| `dict(tuple)`                  | Creates a dictionary from a list of key-value pairs (tuples).                                   | `dict([(\"a\", 1), (\"b\", 2)])`                                                                    | `{'a': 1, 'b': 2}`               |\n",
    "| `\"value\" in d`                 | Checks if a value exists in the dictionary keys.                                                | `d = {\"a\": 1}; \"a\" in d`                                                                        | `True`                           |\n",
    "| `d.keys()`                     | Returns a view of all keys in the dictionary.                                                   | `d = {\"a\": 1, \"b\": 2}; list(d.keys())`                                                          | `['a', 'b']`                     |\n",
    "| `d.values()`                   | Returns a view of all values in the dictionary.                                                 | `d = {\"a\": 1, \"b\": 2}; list(d.values())`                                                        | `[1, 2]`                         |\n",
    "| `d.items()`                    | Returns a view of all key-value pairs as tuples.                                                | `d = {\"a\": 1, \"b\": 2}; list(d.items())`                                                         | `[('a', 1), ('b', 2)]`           |\n",
    "| `d.pop(key, default)`          | Removes the key and returns its value. Returns the default if the key doesn’t exist.            | `d = {\"a\": 1}; d.pop(\"a\", 0)`                                                                   | `1`                              |\n",
    "| `d.update(other_dict)`         | Updates the dictionary with key-value pairs from another dictionary or iterable.                | `d = {\"a\": 1}; d.update({\"b\": 2}); print(d)`                                                    | `{'a': 1, 'b': 2}`               |\n",
    "| `d.clear()`                    | Removes all key-value pairs from the dictionary.                                                | `d = {\"a\": 1}; d.clear(); print(d)`                                                             | `{}`                             |\n",
    "| `d.copy()`                     | Returns a shallow copy of the dictionary.                                                      | `d = {\"a\": 1}; copy = d.copy(); print(copy)`                                                    | `{'a': 1}`                       |\n",
    "| `d.setdefault(key, default)`   | Returns the value of the key. If the key doesn’t exist, inserts it with the default value.      | `d = {\"a\": 1}; d.setdefault(\"b\", 2); print(d)`                                                  | `{'a': 1, 'b': 2}`               |\n",
    "| `len(d)`                       | Returns the number of key-value pairs in the dictionary.                                        | `d = {\"a\": 1, \"b\": 2}; len(d)`                                                                  | `2`                              |\n",
    "| `max(d)`                       | Returns the maximum key (alphabetical or numerical).                                            | `d = {\"a\": 1, \"b\": 2}; max(d)`                                                                  | `'b'`                            |\n",
    "| `min(d)`                       | Returns the minimum key (alphabetical or numerical).                                            | `d = {\"a\": 1, \"b\": 2}; min(d)`                                                                  | `'a'`                            |\n"
   ]
  },
  {
   "cell_type": "code",
   "execution_count": 63,
   "id": "07cee8ef",
   "metadata": {},
   "outputs": [
    {
     "name": "stdout",
     "output_type": "stream",
     "text": [
      "{'name': 'Alice', 'age': 25, 'city': 'New York'}\n",
      "Alice\n",
      "25\n",
      "{'flour': '1kg', 'milk': '7dl', 'butter': 1}\n",
      "{'name': 'Alice', 'city': 'New York'}\n",
      "{'name': 'Alice'}\n",
      "flour\n",
      "milk\n",
      "butter\n",
      "1kg\n",
      "7dl\n",
      "1\n",
      "flour has the value 1kg\n",
      "milk has the value 7dl\n",
      "butter has the value 1\n"
     ]
    }
   ],
   "source": [
    "person = {\"name\": \"Alice\", \"age\": 25, \"city\": \"New York\"}\n",
    "print(person)\n",
    "print(person[\"name\"])  # Output: Alice\n",
    "print(person[\"age\"])   # Output: 25\n",
    "\n",
    "#adding and update\n",
    "ingredients = {\"flour\": \"1kg\", \"milk\": \"5dl\"}\n",
    "ingredients[\"butter\"] = 1  # Add new key-value pair\n",
    "ingredients[\"milk\"] = \"7dl\" # Update existing key\n",
    "print(ingredients)\n",
    "\n",
    "# Remove a specific key-value pair\n",
    "person.pop(\"age\")\n",
    "print(person)\n",
    "\n",
    "# Delete a key-value pair\n",
    "del person[\"city\"]\n",
    "print(person)\n",
    "\n",
    "# Iterate over keys\n",
    "for key in ingredients:\n",
    "    print(key) \n",
    "\n",
    "# Iterate over values\n",
    "for value in ingredients.values():\n",
    "    print(value)\n",
    "\n",
    "# Iterate over key-value pairs\n",
    "for key, value in ingredients.items():\n",
    "    print(f\"{key} has the value {value}\")"
   ]
  },
  {
   "cell_type": "markdown",
   "id": "0be3d93f",
   "metadata": {},
   "source": [
    "## 2.4 Sets\n",
    "\n",
    "- Sets are unordered collections of objects, containing no duplicates.\n",
    "- Type: `set`\n",
    "- Mutable, You can add or remove elements from a set.\n",
    "- Do not allow duplicates: If you try to add a duplicate element, the set will ignore it.\n",
    "- Set literals are written in between curly brackets `{ ... }`, but don't confuse them with dictionaries. Sets only have values, not keys-and-values.\n",
    "- Sets support standard mathematical operations such as union, intersection and difference.\n",
    "- Sets support fast insertion and lookup.\n",
    "#### Syntax:\n",
    "```python\n",
    "myset = {\"object1\",\"object2\",\"...\"}\n",
    "```"
   ]
  },
  {
   "cell_type": "code",
   "execution_count": 64,
   "id": "14c06b4b",
   "metadata": {},
   "outputs": [
    {
     "name": "stdout",
     "output_type": "stream",
     "text": [
      "<class 'set'>\n"
     ]
    }
   ],
   "source": [
    "x = {1, True, 'foo'}\n",
    "print(type(x))"
   ]
  },
  {
   "cell_type": "code",
   "execution_count": 65,
   "id": "be30da98",
   "metadata": {},
   "outputs": [
    {
     "name": "stdout",
     "output_type": "stream",
     "text": [
      "{1, 12, 'foo'}\n"
     ]
    }
   ],
   "source": [
    "x.add(12)\n",
    "print(x)"
   ]
  },
  {
   "cell_type": "code",
   "execution_count": 66,
   "id": "34baba55",
   "metadata": {},
   "outputs": [
    {
     "name": "stdout",
     "output_type": "stream",
     "text": [
      "{1, 2, 3, 4, 5}\n",
      "{1, 2, 3, 4, 5}\n",
      "{3}\n",
      "{3}\n",
      "{1, 2}\n",
      "{1, 2}\n"
     ]
    }
   ],
   "source": [
    "#Set operation\n",
    "set1 = {1, 2, 3}\n",
    "set2 = {3, 4, 5}\n",
    "\n",
    "#Union\n",
    "print(set1 | set2)  # Output: {1, 2, 3, 4, 5} \n",
    "print(set1.union(set2))\n",
    "#intersection \n",
    "print(set1 & set2)  # Output: {3} \n",
    "print(set1.intersection(set2))\n",
    "#Difference\n",
    "print(set1 - set2)  # Output: {1, 2} \n",
    "print(set1.difference(set2))\n",
    "\n",
    "\n"
   ]
  },
  {
   "cell_type": "markdown",
   "id": "f8f42277",
   "metadata": {},
   "source": [
    "# 3.Function"
   ]
  },
  {
   "cell_type": "markdown",
   "id": "5f009caa",
   "metadata": {},
   "source": [
    "- **reusable blocks of code designed to perform specific tasks**, promoting code organization, readability, and reusability.\n",
    "- Are generally defined at the top level of a module, and can also be nested.\n",
    "- defined using the `def` keyword, followed by a function name, parentheses for optional parameters, and a colon.\n",
    "- Variables defined within a function are only accessible within that function's scope\n",
    "- Functions can accept input values, called \"parameters\", allowing for flexibility and generalization.\n",
    "- Functions can return output values using the return statement, enabling functions to compute results and send them back to the calling code.\n",
    "- Python provides built-in functions, functions within standard modules, and the ability to define custom functions\n",
    "\n",
    "#### Syntax\n",
    "```python\n",
    "def function_name(parameters):\n",
    "    \"\"\"Docstring to describe the function.\"\"\"\n",
    "    # Function body\n",
    "    return result\n",
    "```\n",
    "- **`def`**: Keyword to define a function.\n",
    "- **`function_name`**: The name of the function (must be unique).\n",
    "- **`parameters`**: Optional; variables passed to the function.\n",
    "- **`return`**: Optional; used to return a value. What is returned is a tuple, meaning you can result multiples value and use tuple packing/unpacking methods\n",
    "\n",
    "**Examples:**"
   ]
  },
  {
   "cell_type": "code",
   "execution_count": 67,
   "id": "acae5910",
   "metadata": {},
   "outputs": [
    {
     "name": "stdout",
     "output_type": "stream",
     "text": [
      "Hello, Etenia!\n"
     ]
    }
   ],
   "source": [
    "def greet(name):\n",
    "    \"\"\"Greet the user by name.\"\"\"\n",
    "    return f\"Hello, {name}!\"\n",
    "print(greet(\"Etenia\"))"
   ]
  },
  {
   "cell_type": "code",
   "execution_count": 68,
   "id": "526f8c02",
   "metadata": {},
   "outputs": [
    {
     "name": "stdout",
     "output_type": "stream",
     "text": [
      "Hello, Guest!\n",
      "Hello, Percy!\n"
     ]
    }
   ],
   "source": [
    "#### Default Parameters:\n",
    "def greet(name=\"Guest\"):\n",
    "    return f\"Hello, {name}!\"\n",
    "\n",
    "print(greet())# If you don't call any arguments the one sets by default is used\n",
    "print(greet(\"Percy\"))"
   ]
  },
  {
   "cell_type": "code",
   "execution_count": 69,
   "id": "5d0c6f78",
   "metadata": {},
   "outputs": [
    {
     "name": "stdout",
     "output_type": "stream",
     "text": [
      "16\n"
     ]
    }
   ],
   "source": [
    "#### Variable Arguments:\n",
    "def add_numbers(*args): #*args and **kargs let's you call a n number of variable\n",
    "    return sum(args)\n",
    "\n",
    "print(add_numbers(1, 2, 3, 4, 3, 1, 2))"
   ]
  },
  {
   "cell_type": "markdown",
   "id": "f474c93a",
   "metadata": {},
   "source": [
    "#### List of already implemented functions\n",
    "\n",
    "| Function      | Description                                  | Example                                                                 |\n",
    "|---------------|----------------------------------------------|-------------------------------------------------------------------------|\n",
    "| `print()`     | Prints object(s) to the console.            | `print(\"Hello, world!\")` → `Hello, world!`                             |\n",
    "| `len()`       | Returns the number of items in an object.   | `len([1, 2, 3])` → `3`                                                 |\n",
    "| `sum()`       | Returns the sum of all elements in an iterable. | `sum([1, 2, 3, 4])` → `10`                                             |\n",
    "| `range()`     | Generates a sequence of numbers.            | `list(range(5))` → `[0, 1, 2, 3, 4]`                                   |\n",
    "| `max()`       | Returns the largest item in an iterable.    | `max([10, 20, 5])` → `20`                                              |\n",
    "| `min()`       | Returns the smallest item in an iterable.   | `min([10, 20, 5])` → `5`                                               |\n",
    "| `sorted()`    | Returns a sorted list from an iterable.     | `sorted([3, 1, 4])` → `[1, 3, 4]`                                      |\n",
    "| `type()`      | Returns the type of an object.              | `type(42)` → `<class 'int'>`                                           |\n",
    "| `input()`     | Reads a line of input from the user.        | `input(\"Name: \")` → User enters `John` → `\"John\"`                      |\n",
    "| `isinstance()`| Checks if an object is an instance of a class. | `isinstance(5, int)` → `True`                                          |\n",
    "| `open()`      | Opens a file and returns a file object.     | `open(\"file.txt\", \"r\")` → File object                                  |\n",
    "| `map()`       | Applies a function to all items in an iterable. | `map(lambda x: x**2, [1, 2, 3])` → `[1, 4, 9]`                         |\n",
    "| `filter()`    | Filters elements of an iterable based on a function. | `filter(lambda x: x % 2 == 0, [1, 2, 3])` → `[2]`                      |\n",
    "| `round()`     | Rounds a number to the nearest integer or to a given number of decimal places. | `round(3.14159, 2)` → `3.14`, `round(5.6)` → `6`                       |\n",
    "\n"
   ]
  },
  {
   "cell_type": "markdown",
   "id": "6d00f400",
   "metadata": {},
   "source": [
    "# 4.Modules"
   ]
  },
  {
   "cell_type": "markdown",
   "id": "81763a8a",
   "metadata": {},
   "source": [
    "- Modules in Python are files containing Python code, essentially serving as containers for organizing and reusing code. \n",
    "- Any Python file you create is automatically a module.\n",
    "- Code defined within a module can be used in different parts of a program or in other programs.\n",
    "- Modules create separate namespaces, avoiding naming conflicts.\n",
    "- It is considered good programming style to decompose complex programs into multiple modules. Each module should collect together code with similar purpose.\n",
    "#### Standard Modules\n",
    "- Python comes with many [standard modules](https://docs.python.org/3/library/).\n",
    "- The `import` keyword is used to import an entire module.\n",
    "- You may import a subset of things from a module using the `from ... import ...` syntax.\n",
    "- You may import a module with a new name using the `from ... import ... as ...` or `import ... as ...`.\n",
    "- When a module is first imported in a program, all of its top-level statements are executed from top to bottom.  Subsequent imports use a cached version of its definitions, its statements are not re-executed.\n",
    "\n",
    "#### Syntax:\n",
    "```python\n",
    "import module_name\n",
    "from module_name import specific_function\n",
    "import module_name as alias\n",
    "\n",
    "#To recall a specific function\n",
    "module_name.function_name(arguments)\n",
    "\n",
    "```"
   ]
  },
  {
   "cell_type": "code",
   "execution_count": 70,
   "id": "91d092d8",
   "metadata": {},
   "outputs": [
    {
     "name": "stdout",
     "output_type": "stream",
     "text": [
      "4.0\n",
      "3.141592653589793\n",
      "120\n"
     ]
    }
   ],
   "source": [
    "import math\n",
    "print(math.sqrt(16))  # Output: 4.0\n",
    "\n",
    "from math import pi\n",
    "print(pi)             # Output: 3.141592653589793\n",
    "\n",
    "import math as m\n",
    "print(m.factorial(5)) # Output: 120"
   ]
  },
  {
   "cell_type": "markdown",
   "id": "a1d86dda",
   "metadata": {},
   "source": [
    "### Module: `random`\n",
    "The random module in Python is a standard module that provides a variety of functions for generating random numbers and making random selections\n",
    "```python\n",
    "import random\n",
    "```"
   ]
  },
  {
   "cell_type": "markdown",
   "id": "b62bf27f",
   "metadata": {},
   "source": [
    "| Function                  | Description                                                                 | Example                                                                                 |\n",
    "|---------------------------|-----------------------------------------------------------------------------|-----------------------------------------------------------------------------------------|\n",
    "| `random.randint(a, b)`    | Returns a random integer between `a` and `b` (inclusive).                  | `random.randint(1, 10)` → `7`                                                          |\n",
    "| `random.randrange(start, stop[, step])` | Returns a random integer from `start` to `stop` (exclusive), optionally using a step. | `random.randrange(1, 10, 2)` → `3`                                                     |\n",
    "| `random.random()`         | Returns a random float between `0.0` and `1.0`.                            | `random.random()` → `0.7543`                                                           |\n",
    "| `random.uniform(a, b)`    | Returns a random float between `a` and `b`.                                | `random.uniform(1.5, 10.5)` → `7.43`                                                   |\n",
    "| `random.gauss(mu, sigma)` | Returns a random float following a Gaussian distribution with mean `mu` and standard deviation `sigma`. | `random.gauss(0, 1)` → `-0.478`                                                        |\n",
    "| `random.shuffle(x)`       | Shuffles the elements of a list in place.                                  | `data = [1, 2, 3]; random.shuffle(data)` → `[3, 1, 2]`                                  |\n",
    "| `random.choice(seq)`      | Returns a random element from a non-empty sequence.                       | `random.choice(['apple', 'banana', 'cherry'])` → `'banana'`                            |\n",
    "| `random.sample(population, k)` | Returns a list of `k` unique random elements from a population sequence.      | `random.sample([1, 2, 3, 4, 5], 2)` → `[2, 5]`                                         |\n",
    "| `random.choices(population, k)`| Returns a list of `k` random elements from a population (with replacement).   | `random.choices([1, 2, 3, 4], k=3)` → `[3, 1, 1]`                                      |\n"
   ]
  },
  {
   "cell_type": "code",
   "execution_count": 71,
   "id": "4b3280b1",
   "metadata": {},
   "outputs": [
    {
     "name": "stdout",
     "output_type": "stream",
     "text": [
      "[4, 16, 25, 1, 9]\n"
     ]
    }
   ],
   "source": [
    "import random\n",
    "squares = [1, 4, 9, 16, 25]\n",
    "random.shuffle(squares)\n",
    "print(squares)"
   ]
  },
  {
   "cell_type": "markdown",
   "id": "9419f273",
   "metadata": {},
   "source": [
    "### Module : `math` \n",
    "```python\n",
    "import math\n",
    "```"
   ]
  },
  {
   "cell_type": "markdown",
   "id": "c95cc521",
   "metadata": {},
   "source": [
    "| Function                  | Description                                                                                      | Example                                                                                     |\n",
    "|---------------------------|--------------------------------------------------------------------------------------------------|---------------------------------------------------------------------------------------------|\n",
    "| `math.ceil(x)`            | Returns the smallest integer greater than or equal to `x`.                                      | `math.ceil(4.3)` → `5`                                                                      |\n",
    "| `math.floor(x)`           | Returns the largest integer less than or equal to `x`.                                          | `math.floor(4.7)` → `4`                                                                     |\n",
    "| `math.comb(n, k)`         | Returns the number of ways to choose `k` items from `n` items without replacement, order ignored. | `math.comb(5, 2)` → `10`                                                                    |\n",
    "| `math.perm(n, k)`         | Returns the number of ways to choose `k` items from `n` items without replacement, order matters.| `math.perm(5, 2)` → `20`                                                                    |\n",
    "| `math.fabs(x)`            | Returns the absolute value of `x`.                                                              | `math.fabs(-5.5)` → `5.5`                                                                   |\n",
    "| `math.exp(x)`             | Returns `e^x`, where `e` is the Euler's number.                                                 | `math.exp(1)` → `2.718281828459045`                                                        |\n",
    "| `math.log(x, base)`       | Returns the logarithm of `x` to the given `base` (default base is `e`).                         | `math.log(10, 2)` → `3.3219280948873626`, `math.log(10)` → `2.302585092994046`              |\n",
    "| `math.pow(x, y)`          | Returns `x^y` as a floating-point number.                                                       | `math.pow(2, 3)` → `8.0`                                                                    |\n",
    "| `math.sqrt(x)`            | Returns the square root of `x`.                                                                 | `math.sqrt(16)` → `4.0`                                                                     |\n",
    "| `math.cos(x)`             | Returns the cosine of angle `x` (in radians).                                                   | `math.cos(math.pi / 3)` → `0.5`                                                             |\n",
    "| `math.acos(x)`            | Returns the arc cosine of `x` (in radians).                                                     | `math.acos(0.5)` → `1.0471975511965979`                                                    |\n",
    "| `math.pi`                 | The mathematical constant π = 3.141592...                                                       | `math.pi` → `3.141592653589793`                                                             |\n",
    "| `math.e`                  | The mathematical constant `e` = 2.718281...                                                     | `math.e` → `2.718281828459045`                                                              |\n",
    "| `math.inf`                | A floating-point positive infinity (use `-math.inf` for negative infinity).                     | `math.inf` → `inf`, `-math.inf` → `-inf`                                                   |\n"
   ]
  },
  {
   "cell_type": "markdown",
   "id": "ba76a73d",
   "metadata": {},
   "source": [
    "### Module:`statistics`\n",
    "```python\n",
    "import statistics as stats\n",
    "#this let you use stats instead of statistics which is too annoying to write\n",
    "```"
   ]
  },
  {
   "cell_type": "markdown",
   "id": "a8d1693b",
   "metadata": {},
   "source": [
    "| Function                          | Description                                                                                                   | Example                                                                                     |\n",
    "|-----------------------------------|---------------------------------------------------------------------------------------------------------------|---------------------------------------------------------------------------------------------|\n",
    "| `statistics.mean(data)`           | Calculates the arithmetic mean (average) of the data.                                                        | `statistics.mean([1, 2, 3, 4, 5])` → `3`                                                   |\n",
    "| `statistics.geometric_mean(data)` | Calculates the geometric mean of the data (product of numbers raised to the power of 1/n).                   | `statistics.geometric_mean([2, 8])` → `4.0`                                                |\n",
    "| `statistics.median(data)`         | Calculates the median of the data. For an even number of data points, returns the average of the two middle values. | `statistics.median([1, 3, 3, 7])` → `3`                                                    |\n",
    "| `statistics.median_low(data)`     | Returns the lower of the two middle values when the number of data points is even.                           | `statistics.median_low([1, 3, 3, 7])` → `3`                                                |\n",
    "| `statistics.median_high(data)`    | Returns the higher of the two middle values when the number of data points is even.                          | `statistics.median_high([1, 3, 3, 7])` → `3`                                               |\n",
    "| `statistics.mode(data)`           | Returns the single most frequent value in the data. If there are multiple modes, returns the first one found. | `statistics.mode([1, 2, 2, 3])` → `2`                                                      |\n",
    "| `statistics.multimode(data)`      | Returns a list of all modes in the data.                                                                     | `statistics.multimode([1, 2, 2, 3, 3])` → `[2, 3]`                                         |\n",
    "| `statistics.pvariance(data)`      | Calculates the population variance of the data.                                                              | `statistics.pvariance([1, 2, 3, 4])` → `1.25`                                              |\n",
    "| `statistics.pstdev(data)`         | Calculates the population standard deviation (square root of the population variance).                       | `statistics.pstdev([1, 2, 3, 4])` → `1.118033988749895`                                    |\n",
    "| `statistics.quantiles(data, n=x)` | Divides the data into `x` intervals of equal probability and returns a list of `x-1` dividing points.         | `statistics.quantiles([1, 2, 3, 4, 5], n=4)` → `[1.75, 3.0, 4.25]`                         |\n"
   ]
  },
  {
   "cell_type": "markdown",
   "id": "70f542ef",
   "metadata": {},
   "source": [
    "# 5. Files handling"
   ]
  },
  {
   "cell_type": "markdown",
   "id": "e5c97917",
   "metadata": {},
   "source": [
    "To read or write files in Python, you'll primarily use the built-in `open()` function and its associated methods\n",
    "- **Opening a File:**\n",
    "    This is an easy way to open a file, choose the mode accordingly to what you do:\n",
    "    ```python\n",
    "    file = open(\"filename.txt\", mode)\n",
    "    ```\n",
    "- **Close a file:**\n",
    "    To close a file simply do:\n",
    "    ```python\n",
    "    file.close()\n",
    "    ```\n",
    "- **Open and close automatically:**\n",
    "    This let you close the file when you are done without having to use .close(). It's the most common way:\n",
    "    ```python\n",
    "    with open(\"data.txt\",mode) as file:\n",
    "    ```\n",
    "#### Modes:\n",
    "| Mode  | Description                                                                 |\n",
    "|-------|-----------------------------------------------------------------------------|\n",
    "| `'r'` | Read (default mode), file must exist.                                       |\n",
    "| `'w'` | Write (creates a new file or truncates an existing one).                    |\n",
    "| `'x'` | Exclusive creation, fails if file exists.                                   |\n",
    "| `'a'` | Append, adds to the end of the file.                                        |\n",
    "| `'+'` | Read and write (e.g., `'r+'`, `'w+'`).                                      |\n",
    "\n",
    "#### Reading Methods for File Objects\n",
    "\n",
    "| Method          | Description                                                                                               | Example                                                |\n",
    "|-----------------|-----------------------------------------------------------------------------------------------------------|--------------------------------------------------------|\n",
    "| `read(size=-1)`  | Reads the entire file or up to `size` bytes.                                                               | `content = file.read()`                               |\n",
    "| `readline()`     | Reads a single line from the file.                                                                         | `line = file.readline()`                              |\n",
    "| `readlines()`    | Reads all lines from the file and returns a list of lines.                                                  | `lines = file.readlines()`                            |\n",
    "#### Writing Methods for File Objects\n",
    "\n",
    "| Method            | Description                                                                                               | Example                                                |\n",
    "|-------------------|-----------------------------------------------------------------------------------------------------------|--------------------------------------------------------|\n",
    "| `write(string)`    | Writes the given `string` to the file.                                                                     | `file.write(\"Hello\")`                                  |\n",
    "| `writelines(lines)`| Writes a list of `lines` (strings) to the file.                                                            | `file.writelines([\"line1\", \"line2\"])`                  |\n",
    "#### Other Methods for File Objects\n",
    "\n",
    "| Method               | Description                                                                                               | Example                                                |\n",
    "|----------------------|-----------------------------------------------------------------------------------------------------------|--------------------------------------------------------|\n",
    "| `tell()`             | Returns the current file position (number of bytes from the beginning).                                    | `position = file.tell()`                               |\n",
    "| `seek(offset, whence=0)` | Moves the file pointer to a new position. `offset` is the number of bytes, `whence` specifies the start.  | `file.seek(0)`                                          |\n",
    "| `flush()`            | Flushes the internal buffer to the file (writes buffered data).                                            | `file.flush()`                                          |\n",
    "| `truncate(size=None)`| Truncates the file to the specified size. If `size` is not provided, truncates at the current file position. | `file.truncate(10)`                                     |\n",
    "| `close()`            | Closes the file (not needed with `with` statement).                                                        | `file.close()`                                          |\n",
    "\n"
   ]
  },
  {
   "cell_type": "code",
   "execution_count": 72,
   "id": "437d24d5",
   "metadata": {},
   "outputs": [],
   "source": [
    "with open(\"info.txt\", \"w\") as file:\n",
    "     age = 43\n",
    "     height = 1.76\n",
    "     file.write(\"Ich bin \" + str(age) +\n",
    "            \" Jahre alt und \" + str(height) + \"m gross.\")"
   ]
  },
  {
   "cell_type": "markdown",
   "id": "0d65eeaf",
   "metadata": {},
   "source": [
    "### Module `csv`:\n",
    "```python\n",
    "import csv\n",
    "```\n",
    "The CSV (Comma Separated Values) format is a plain text file format widely used for storing and exchanging tabular data, much like spreadsheets or databases. In a CSV file, each line represents a row of data, and values within that row are separated by commas (or another specified delimiter).\n",
    "### What the csv Module Does:\n",
    "- Reading CSV Files: Converts data from a CSV file into Python data structures (e.g., lists or dictionaries).\n",
    "- Writing CSV Files: Converts Python data structures into properly formatted CSV files.\n",
    "- Customizing CSV Behavior: Supports different delimiters (e.g., ;, \\t), quote characters, line terminators, and escape characters.\n",
    "#### Common Functions and Classes in the `csv` Module\n",
    "\n",
    "| **Function/Class**   | **Purpose**                                                                 |\n",
    "|-----------------------|-----------------------------------------------------------------------------|\n",
    "| `csv.reader`          | Reads a CSV file and returns an iterable object (rows as lists).            |\n",
    "| `csv.writer`          | Writes data into a CSV file (rows as lists).                                |\n",
    "| `csv.DictReader`      | Reads a CSV file and returns rows as dictionaries (field names as keys).    |\n",
    "| `csv.DictWriter`      | Writes data into a CSV file using dictionaries (keys as column headers).    |\n",
    "#### Reading a file\n",
    "```python\n",
    "readCSV = csv.reader(file_object, delimiter=',')\n",
    "# Attributes to the variable readCSV the data (a list, or a dict)\n",
    "for row in readCSV:\n",
    "# You can then go through the row of the datas (the rows are delimited by the `delimiter=',')\n",
    "entry_1 = row[1]\n",
    "# or get a specific row assigned to a list\n",
    "for entry in row:\n",
    "# and go through the entry in the row\n",
    "```"
   ]
  },
  {
   "cell_type": "markdown",
   "id": "103a0dbc",
   "metadata": {},
   "source": [
    "**Example:**\n",
    "```python\n",
    "import csv\n",
    " out_file = open(\"result.txt\", \"w\")\n",
    " with open('data.csv') as in_file:\n",
    "     readCSV = csv.reader(in_file, delimiter=' ')\n",
    "     for row in readCSV:\n",
    "         mean = (float(row[1]) + float(row[2])) / 2\n",
    "         out_file.write(\"Mittelwert aus Zeile {0} = {1}\\n\".format(row[0], mean))\n",
    "\n",
    "```"
   ]
  },
  {
   "cell_type": "markdown",
   "id": "0fe87503",
   "metadata": {},
   "source": [
    "## Module `pandas`"
   ]
  },
  {
   "cell_type": "markdown",
   "id": "37d2a80e",
   "metadata": {},
   "source": [
    "```python\n",
    "import pandas as pd\n",
    "```\n",
    "**Data Structures: Series and DataFrame**\n",
    "\n",
    "*   **Series:** A one-dimensional labeled array capable of holding data of various types (integers, floats, strings, etc.).  It's similar to a list but with an associated index that labels each element.\n",
    "*   **DataFrame:**  A two-dimensional labeled data structure with columns of potentially different types.\n",
    "*   **Index:**  DataFrames and Series have an index that provides labels for each row. You can use default integer indices or set a custom index using one of the columns.\n",
    "*   **Setting an Index:**  You can use `df = df.set_index('col3')` to set a specific column ('col3' in this case) as the index of a DataFrame.\n",
    "\n",
    "### Common Functions in Pandas\n",
    "\n",
    "**1. Reading Data**\n",
    "```python\n",
    "import pandas as pd\n",
    "\n",
    "# Read data from a CSV file\n",
    "df = pd.read_csv('file.csv')\n",
    "# Read data from an Excel file\n",
    "df = pd.read_excel('file.xlsx')\n",
    "# Read data from a JSON file\n",
    "df = pd.read_json('file.json')\n",
    "```\n",
    "\n",
    "**2. Writing Data**\n",
    "```python\n",
    "# Write a DataFrame to a CSV file\n",
    "df.to_csv('output.csv', index=False)\n",
    "# Write a DataFrame to an Excel file\n",
    "df.to_excel('output.xlsx', index=False)\n",
    "# Write a DataFrame to a JSON file\n",
    "df.to_json('output.json', orient='records')\n",
    "```\n",
    "\n",
    "**3. Sorting Data**\n",
    "```python\n",
    "# Sort by a single column\n",
    "df_sorted = df.sort_values(by='column_name')\n",
    "# Sort by multiple columns\n",
    "df_sorted = df.sort_values(by=['column1', 'column2'], ascending=[True, False])\n",
    "# Sort the DataFrame by index\n",
    "df_sorted = df.sort_index()\n",
    "```\n",
    "\n",
    "**4. Filtering Data**\n",
    "```python\n",
    "# Filter rows based on a condition\n",
    "filtered_df = df[df['column_name'] > 10]\n",
    "# Filter rows with multiple conditions\n",
    "filtered_df = df[(df['column1'] > 10) & (df['column2'] == 'value')]\n",
    "# Use the query method for filtering\n",
    "filtered_df = df.query('column_name > 10 and column2 == \"value\"')\n"
   ]
  },
  {
   "cell_type": "markdown",
   "id": "dd14fdee",
   "metadata": {},
   "source": [
    "**Examples:**\n",
    "```python\n",
    "import pandas as pd\n",
    "data = {\"b\": 1, \"a\": 0, \"c\": 2}\n",
    "s = pd.Series(data)\n",
    "print(s)\n",
    "# Output for s = pd.Series(data)\n",
    "b    1\n",
    "a    0\n",
    "c    2\n",
    "\n",
    "d = {\"b\": 1, \"a\": 0, \"c\": 2}\n",
    "s = pd.Series(d, index=[\"b\", \"d\", \"a\"])\n",
    "print(s)\n",
    "# Output for s = pd.Series(d, index=[\"b\", \"d\", \"a\"])\n",
    "b    1.0\n",
    "d    NaN\n",
    "a    0.0\n",
    "```\n",
    "### Example: Combining Functions\n",
    "```python\n",
    "import pandas as pd\n",
    "\n",
    "# Sample data\n",
    "data = {\n",
    "    'Name': ['Alice', 'Bob', 'Charlie', 'David'],\n",
    "    'Age': [25, 30, 35, 40],\n",
    "    'Score': [85, 90, 88, 92]\n",
    "}\n",
    "\n",
    "# Create a DataFrame\n",
    "df = pd.DataFrame(data)\n",
    "\n",
    "# Filter rows where Age > 30\n",
    "filtered_df = df[df['Age'] > 30]\n",
    "\n",
    "# Sort the filtered DataFrame by Score\n",
    "df_sorted = filtered_df.sort_values(by='Score', ascending=False)\n",
    "\n",
    "# Save the sorted DataFrame to a CSV file\n",
    "df_sorted.to_csv('filtered_and_sorted.csv', index=False)\n",
    "\n",
    "print(df_sorted)\n",
    "```\n",
    "\n",
    "#### Output:\n",
    "```plaintext\n",
    "     Name  Age  Score\n",
    "3   David   40     92\n",
    "2  Charlie   35     88\n",
    "```"
   ]
  },
  {
   "cell_type": "markdown",
   "id": "d3ff4e88",
   "metadata": {},
   "source": [
    "# 6 Plotting Graphs"
   ]
  },
  {
   "cell_type": "markdown",
   "id": "4a5e00f8",
   "metadata": {},
   "source": [
    "To plot the graph we are going to use the module `matplotlib`\n",
    "```python\n",
    "import matplotlib.pyplot as plt\n",
    "```\n",
    "\n",
    "### Module `matplotlib`:\n"
   ]
  },
  {
   "cell_type": "markdown",
   "id": "0bdec797",
   "metadata": {},
   "source": [
    "| **Type**       | **Symbol** | **Description**   |\n",
    "|----------------|------------|-------------------|\n",
    "| **Color**      | \"b\"        | Blue              |\n",
    "|                | \"g\"        | Green             |\n",
    "|                | \"r\"        | Red               |\n",
    "|                | \"k\"        | Black             |\n",
    "| **Shape**      | \"s\"        | Square            |\n",
    "|                | \"*\"        | Star              |\n",
    "|                | \"D\"        | Diamond           |\n",
    "|                | \"o\"        | Circle            |\n",
    "|                | \"^\"        | Triangle          |\n",
    "| **Line Style** | \"-\"        | Solid line        |\n",
    "|                | \"--\"       | Dashed line       |\n",
    "|                | \"-.\"       | Dash-dot line     |\n",
    "|                | \":\"        | Dotted line       |\n"
   ]
  },
  {
   "cell_type": "markdown",
   "id": "4d2270c5",
   "metadata": {},
   "source": [
    "#### **1. Line Diagram**"
   ]
  },
  {
   "cell_type": "code",
   "execution_count": 73,
   "id": "da7a3354",
   "metadata": {},
   "outputs": [
    {
     "data": {
      "image/png": "[encoded data removed]",
      "text/plain": [
       "<Figure size 432x288 with 1 Axes>"
      ]
     },
     "metadata": {
      "needs_background": "light"
     },
     "output_type": "display_data"
    },
    {
     "data": {
      "text/plain": [
       "<Figure size 720x360 with 0 Axes>"
      ]
     },
     "metadata": {},
     "output_type": "display_data"
    }
   ],
   "source": [
    "import matplotlib.pyplot as plt\n",
    "\n",
    "# Data for the plot\n",
    "x = [1, 2, 3, 4]\n",
    "y = [10, 20, 25, 30]\n",
    "\n",
    "# Create a line plot\n",
    "plt.plot(x, y, color='blue', linestyle='--', linewidth=2)\n",
    "\n",
    "# Customize the plot\n",
    "plt.title(\"Line Diagram Example\")\n",
    "plt.xlabel(\"X-axis\")\n",
    "plt.ylabel(\"Y-axis\")\n",
    "plt.grid(True)\n",
    "plt.figure(figsize=(10, 5))\n",
    "\n",
    "# Show the plot\n",
    "plt.show()"
   ]
  },
  {
   "cell_type": "code",
   "execution_count": 74,
   "id": "aaa63936",
   "metadata": {},
   "outputs": [
    {
     "data": {
      "image/png": "[encoded data removed]",
      "text/plain": [
       "<Figure size 432x288 with 1 Axes>"
      ]
     },
     "metadata": {
      "needs_background": "light"
     },
     "output_type": "display_data"
    }
   ],
   "source": [
    "x_values = [0, 1, 2, 3, 4]\n",
    "y_values = [0, 3, 1, 5, 2]\n",
    "plt.plot(x_values, y_values, \"o--g\", label=\"Werte  ̈uber die Jahre\")\n",
    "plt.title(\"Titel der Grafik\")\n",
    "plt.xlabel(\"Jahr\")\n",
    "plt.ylabel(\"Werte\")\n",
    "plt.xticks(list(range(5)),\n",
    "          [\"2015\", \"2016\", \"2017\", \"2018\", \"2019\"])\n",
    "plt.yticks(list(range(7)),\n",
    "          [\"0M\", \"1M\", \"2M\", \"3M\", \"4M\", \"5M\", \"6M\"])\n",
    "plt.legend()  # Legende anzeigen\n",
    "plt.show()"
   ]
  },
  {
   "cell_type": "code",
   "execution_count": 75,
   "id": "7e119cf1",
   "metadata": {},
   "outputs": [
    {
     "data": {
      "text/plain": [
       "Text(4.2, 2.2, 'something special')"
      ]
     },
     "execution_count": 75,
     "metadata": {},
     "output_type": "execute_result"
    },
    {
     "data": {
      "image/png": "[encoded data removed]",
      "text/plain": [
       "<Figure size 432x288 with 1 Axes>"
      ]
     },
     "metadata": {
      "needs_background": "light"
     },
     "output_type": "display_data"
    }
   ],
   "source": [
    "plt.plot([1, 2, 3, 4, 5, 6, 7, 8], [2, 2, 3, 7, 9, 4, 3, 7], \"*b--\")\n",
    "plt.annotate('something special', xy=(3, 3), xytext=(4.2, 2.2),\n",
    "              arrowprops=dict(facecolor='k'))"
   ]
  },
  {
   "cell_type": "markdown",
   "id": "4766215c",
   "metadata": {},
   "source": [
    "#### **2. Bar Chart (Balkendiagram)**"
   ]
  },
  {
   "cell_type": "code",
   "execution_count": 76,
   "id": "5dae0205",
   "metadata": {},
   "outputs": [
    {
     "data": {
      "image/png": "[encoded data removed]",
      "text/plain": [
       "<Figure size 432x288 with 1 Axes>"
      ]
     },
     "metadata": {
      "needs_background": "light"
     },
     "output_type": "display_data"
    }
   ],
   "source": [
    "# Data for the bar chart\n",
    "categories = ['A', 'B', 'C']\n",
    "values = [5, 7, 3]\n",
    "\n",
    "# Create a bar chart\n",
    "plt.bar(categories, values, color='green')\n",
    "\n",
    "# Customize the plot\n",
    "plt.title(\"Bar Chart Example\")\n",
    "plt.xlabel(\"Categories\")\n",
    "plt.ylabel(\"Values\")\n",
    "\n",
    "# Show the plot\n",
    "plt.show()"
   ]
  },
  {
   "cell_type": "code",
   "execution_count": 77,
   "id": "f7f2427a",
   "metadata": {},
   "outputs": [
    {
     "data": {
      "image/png": "[encoded data removed]",
      "text/plain": [
       "<Figure size 432x288 with 1 Axes>"
      ]
     },
     "metadata": {
      "needs_background": "light"
     },
     "output_type": "display_data"
    }
   ],
   "source": [
    "\n",
    "categories = ['red', 'blue', 'orange']\n",
    "counts = [40, 100, 55]\n",
    "bar_colors = [\"tab:red\", \"tab:blue\", \"tab:orange\"]\n",
    "plt.bar(categories, counts, color=bar_colors)\n",
    "plt.show()"
   ]
  },
  {
   "cell_type": "markdown",
   "id": "2b96e954",
   "metadata": {},
   "source": [
    "#### **3. Scatter Plot (Streudiagram)**\n"
   ]
  },
  {
   "cell_type": "code",
   "execution_count": 78,
   "id": "98c2c54a",
   "metadata": {},
   "outputs": [
    {
     "data": {
      "image/png": "[encoded data removed]",
      "text/plain": [
       "<Figure size 432x288 with 1 Axes>"
      ]
     },
     "metadata": {
      "needs_background": "light"
     },
     "output_type": "display_data"
    }
   ],
   "source": [
    "# Data for the scatter plot\n",
    "x = [5, 7, 8, 7, 2, 17, 2, 9, 4, 11]\n",
    "y = [99, 86, 87, 88, 100, 86, 103, 87, 94, 78]\n",
    "\n",
    "# Create a scatter plot\n",
    "plt.scatter(x, y, color='red')\n",
    "\n",
    "# Customize the plot\n",
    "plt.title(\"Scatter Plot Example\")\n",
    "plt.xlabel(\"X-axis\")\n",
    "plt.ylabel(\"Y-axis\")\n",
    "\n",
    "# Show the plot\n",
    "plt.show()"
   ]
  },
  {
   "cell_type": "code",
   "execution_count": 79,
   "id": "178146ed",
   "metadata": {},
   "outputs": [
    {
     "data": {
      "image/png": "[encoded data removed]",
      "text/plain": [
       "<Figure size 432x288 with 1 Axes>"
      ]
     },
     "metadata": {
      "needs_background": "light"
     },
     "output_type": "display_data"
    }
   ],
   "source": [
    "x = [1, 2, 3, 4, 5, 6, 7, 8, 9, 10]\n",
    "y1 = [6, 7, 9, 8, 6, 5, 7, 6, 6, 9]\n",
    "y2 = [3, 3, 5, 3, 2, 1, 2, 4, 4, 7]\n",
    "plt.fill_between(x, y1, y2, alpha=.5)\n",
    "plt.show()"
   ]
  },
  {
   "cell_type": "markdown",
   "id": "2269b8e2",
   "metadata": {},
   "source": [
    "#### 4.Heatmap"
   ]
  },
  {
   "cell_type": "code",
   "execution_count": 80,
   "id": "d96ffad5",
   "metadata": {},
   "outputs": [
    {
     "data": {
      "text/plain": [
       "<matplotlib.colorbar.Colorbar at 0x7fbd2d1707f0>"
      ]
     },
     "execution_count": 80,
     "metadata": {},
     "output_type": "execute_result"
    },
    {
     "data": {
      "image/png": "[encoded data removed]",
      "text/plain": [
       "<Figure size 432x288 with 2 Axes>"
      ]
     },
     "metadata": {
      "needs_background": "light"
     },
     "output_type": "display_data"
    }
   ],
   "source": [
    "\n",
    "values = [[0.8, 2.4, 2.5, 3.9, 0.0, 4.0, 0.0],\n",
    "             [2.4, 0.0, 4.0, 1.0, 2.7, 0.0, 0.0],\n",
    "             [1.1, 2.4, 0.8, 4.3, 1.9, 4.4, 0.0],\n",
    "             [0.6, 0.0, 0.3, 0.0, 3.1, 0.0, 0.0],\n",
    "             [0.7, 1.7, 0.6, 2.6, 2.2, 6.2, 0.0],\n",
    "             [1.3, 1.2, 0.0, 0.0, 0.0, 3.2, 5.1],\n",
    "             [0.1, 2.0, 0.0, 1.4, 0.0, 1.9, 6.3]]\n",
    "plt.imshow(values)\n",
    "plt.colorbar() # zeigt die Legende der Farben an plt.show()"
   ]
  },
  {
   "cell_type": "markdown",
   "id": "904dece0",
   "metadata": {},
   "source": [
    "#### 5. Historgram"
   ]
  },
  {
   "cell_type": "code",
   "execution_count": 81,
   "id": "3ac9abef",
   "metadata": {},
   "outputs": [
    {
     "data": {
      "image/png": "[encoded data removed]",
      "text/plain": [
       "<Figure size 432x288 with 1 Axes>"
      ]
     },
     "metadata": {
      "needs_background": "light"
     },
     "output_type": "display_data"
    }
   ],
   "source": [
    "# Data for the histogram\n",
    "data = [22, 87, 5, 43, 56, 73, 55, 54, 11, 20, 51, 5, 79, 31, 27]\n",
    "\n",
    "# Create a histogram\n",
    "plt.hist(data, bins=5, color='purple', edgecolor='black')\n",
    "\n",
    "# Customize the plot\n",
    "plt.title(\"Histogram Example\")\n",
    "plt.xlabel(\"Bins\")\n",
    "plt.ylabel(\"Frequency\")\n",
    "\n",
    "# Show the plot\n",
    "plt.show()"
   ]
  }
 ],
 "metadata": {
  "kernelspec": {
   "display_name": "Python 3 (ipykernel)",
   "language": "python",
   "name": "python3"
  },
  "language_info": {
   "codemirror_mode": {
    "name": "ipython",
    "version": 3
   },
   "file_extension": ".py",
   "mimetype": "text/x-python",
   "name": "python",
   "nbconvert_exporter": "python",
   "pygments_lexer": "ipython3",
   "version": "3.9.7"
  }
 },
 "nbformat": 4,
 "nbformat_minor": 5
}
