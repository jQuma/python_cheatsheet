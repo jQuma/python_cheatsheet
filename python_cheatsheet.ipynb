{
 "cells": [
  {
   "cell_type": "markdown",
   "id": "f5a1db82-8196-4d7c-a6a2-b1c515a27c9e",
   "metadata": {},
   "source": [
    "**2024-2025 Unibe Python cheatsheet**"
   ]
  },
  {
   "cell_type": "markdown",
   "id": "edeb707f",
   "metadata": {},
   "source": [
    "# Python cheatsheet\n"
   ]
  },
  {
   "cell_type": "markdown",
   "id": "82562fe5",
   "metadata": {},
   "source": [
    "## Why Python?\n",
    "\n",
    "Python is a high-level, interpreted programming language known for its simplicity, readability, and versatility. It supports multiple programming paradigms, such as object-oriented, procedural, and functional programming, making it suitable for a wide range of applications like web development, data analysis, artificial intelligence, and more.\n",
    "\n",
    "## Key Advantages:\n",
    "\n",
    "- Readability: Python has a clean and simple syntax, making it easy to learn and use.\n",
    "\n",
    "- Versatility: Suitable for web, desktop, and scientific applications.\n",
    "\n",
    "- Cross-platform: Runs on Windows, macOS, Linux, and more.\n",
    "\n",
    "- Large Community: A vast library ecosystem and active community support.\n",
    "\n",
    "- Popularity: Consistently ranks as one of the most popular programming languages."
   ]
  },
  {
   "cell_type": "markdown",
   "id": "76b28bef",
   "metadata": {},
   "source": [
    "# 0 Getting Started\n",
    "\n",
    "### 0.1 Program Development\n",
    "\n",
    "Python is an interpreted language, meaning the code is executed line-by-line. You write Python programs in .py files and run them using the Python interpreter.\n",
    "\n",
    "Compiling: Converts source code into machine code (e.g., C++).\n",
    "\n",
    "Interpreting: Executes code directly without compiling (e.g., Python).\n",
    "\n",
    "### 0.2 Python Interpreter\n",
    "\n",
    "- Interactive Mode: Open the interpreter by typing python in your terminal (use python3 if Python 2 is installed).\n",
    "\n",
    "\n",
    "```python\n",
    ">>> 2 + 3\n",
    "5\n",
    ">>> print(\"Hello, Python!\")\n",
    "Hello, Python!\n",
    ">>> quit()\n",
    "```\n",
    "- Script Mode: Save code in a .py file and run using python script.py."
   ]
  },
  {
   "cell_type": "markdown",
   "id": "9a2233eb-1853-42a6-98d8-60371dec533f",
   "metadata": {},
   "source": [
    "# 1. Python Basics"
   ]
  },
  {
   "cell_type": "markdown",
   "id": "0592315a",
   "metadata": {},
   "source": [
    "## 1.1 Comments\n",
    "\n",
    "Program comments start with a hash character `\"#\"` and continue until the end of the line. There are no multi-line comment markers, but that can sometimes be faked with multi-line string literals."
   ]
  },
  {
   "cell_type": "markdown",
   "id": "c670b87c",
   "metadata": {},
   "source": [
    "*Examples:*"
   ]
  },
  {
   "cell_type": "code",
   "execution_count": 60,
   "id": "b2ce3edd",
   "metadata": {},
   "outputs": [],
   "source": [
    "# This is a comment.\n",
    "# This is another comment."
   ]
  },
  {
   "cell_type": "code",
   "execution_count": 61,
   "id": "20cade98",
   "metadata": {},
   "outputs": [],
   "source": [
    "x = 5 # This is a comment which follows some code."
   ]
  },
  {
   "cell_type": "code",
   "execution_count": 62,
   "id": "838fd96f",
   "metadata": {},
   "outputs": [
    {
     "data": {
      "text/plain": [
       "'This is\\na multi-line\\nstring literal\\nwhich can sometimes act like\\na\\ncomment.\\n'"
      ]
     },
     "execution_count": 62,
     "metadata": {},
     "output_type": "execute_result"
    }
   ],
   "source": [
    "'''This is\n",
    "a multi-line\n",
    "string literal\n",
    "which can sometimes act like\n",
    "a\n",
    "comment.\n",
    "'''"
   ]
  },
  {
   "cell_type": "markdown",
   "id": "f00d5796",
   "metadata": {},
   "source": [
    "## 1.2 Variables\n",
    "A variable in Python acts as a label or reference to a specific location in memory. This location can hold a value, which can change throughout the program. Think of it like a container with a name tag (the variable) that stores contents (the value)\n",
    "\n",
    "**Naming Rules:** \n",
    "\n",
    "- Must start with a letter or underscore.\n",
    "\n",
    "- Can only contain letters, digits, or underscores.\n",
    "\n",
    "- Case-sensitive (myVar and myvar are different).\n"
   ]
  },
  {
   "cell_type": "markdown",
   "id": "058e6dad",
   "metadata": {},
   "source": [
    "*Examples*:"
   ]
  },
  {
   "cell_type": "code",
   "execution_count": 63,
   "id": "81e22ae2",
   "metadata": {},
   "outputs": [
    {
     "data": {
      "text/plain": [
       "False"
      ]
     },
     "execution_count": 63,
     "metadata": {},
     "output_type": "execute_result"
    }
   ],
   "source": [
    "x = 23 #You can change the value of a variable troughout the program ex:\n",
    "x = 11 # Now x contain the value 11\n",
    "\n",
    "a = 5  # Integer\n",
    "b = 3.14  # Float\n",
    "name = \"Alice\"  # String\n",
    "is_active = True  # Boolean\n",
    "#Careful when choosing a name, as some names are forbidden/already used by python here is a list:\n",
    "\"\"\"\n",
    "False await else None break except True class finally and continue for\n",
    "as def from assert del global async elif if\n",
    "import pass in raise is return lambda try nonlocal while not with or yield\n",
    "\n",
    "\"\"\"\n",
    "\n",
    "#Python knows the difference between a majuscule or a minuscule :\n",
    "\n",
    "\"JOHN\" == \"john\" #this is a boolean that checks if JOHN or john is the same --> check 1.3 Types\n",
    "\n"
   ]
  },
  {
   "cell_type": "code",
   "execution_count": 64,
   "id": "348c93cc",
   "metadata": {},
   "outputs": [],
   "source": [
    "# None = \"not gonna work\" \n",
    "# None is reserved to python"
   ]
  },
  {
   "cell_type": "markdown",
   "id": "19dbbb91",
   "metadata": {},
   "source": [
    "*!! Be careful not to use `==` as it something else !*"
   ]
  },
  {
   "cell_type": "markdown",
   "id": "6548169c",
   "metadata": {},
   "source": [
    "## 1.3 Types\n",
    "main ones include:\n",
    "- string (\"hello\")\n",
    "- int (1,20,402)\n",
    "- float (2.33,2.0)\n",
    "- complex (10 + 5i)\n",
    "- bool (True, False)"
   ]
  },
  {
   "cell_type": "markdown",
   "id": "d7fd1f39",
   "metadata": {},
   "source": [
    "*You can se the type of a variable by using `type(x)`*"
   ]
  },
  {
   "cell_type": "markdown",
   "id": "90179b95",
   "metadata": {},
   "source": [
    "### Strings `str`\n",
    "- Represent text\n",
    "- String literals must be quoted. There are 3 quoting styles:\n",
    "   - single quote characters: `'hello'`\n",
    "   - double quote characters: `\"hello\"`\n",
    "   - triple quote characters: `'''hello'''` (three single quotes in a row) or `\"\"\"hello\"\"\"` (three double quote characters in a row)\n",
    "- The usual set of escape characters are supported (see `print()`function for more):\n",
    "   - `\\n` newline\n",
    "   - `\\t` tab\n",
    "   - `\\\\` backslash\n",
    "   - `\\'` single quote\n",
    "   - `\\\"` double quote\n",
    "   - and many more\n",
    "- Strings can be indexed to obtain individual characters, e.g. `s[5]` (the result of which is a string of length one).\n",
    "- Strings can be sliced meaning they can be cut in parts (see example)\n",
    "- Indices are zero-based (but you may also use negative indices to access items with respect to the right end of the string).\n",
    "\n",
    "   ->(0,1,2,3,4,5,...)\n",
    "- Strings are immutable: you cannot modify a string once it has been created.\n",
    "\n",
    "*Example:*"
   ]
  },
  {
   "cell_type": "code",
   "execution_count": 65,
   "id": "99360163",
   "metadata": {},
   "outputs": [
    {
     "data": {
      "text/plain": [
       "str"
      ]
     },
     "execution_count": 65,
     "metadata": {},
     "output_type": "execute_result"
    }
   ],
   "source": [
    "type('Hello')"
   ]
  },
  {
   "cell_type": "code",
   "execution_count": 66,
   "id": "568b8bbf",
   "metadata": {},
   "outputs": [
    {
     "name": "stdout",
     "output_type": "stream",
     "text": [
      "Jo\n"
     ]
    }
   ],
   "source": [
    "name = \"John\"\n",
    "type(name)\n",
    "print(name[0:2:1]) # this is how to slice a string nameofthestring[i:j:k], i = start, j = end, k = step"
   ]
  },
  {
   "cell_type": "code",
   "execution_count": 67,
   "id": "60f1afdc",
   "metadata": {},
   "outputs": [
    {
     "name": "stdout",
     "output_type": "stream",
     "text": [
      "Hlo\n"
     ]
    }
   ],
   "source": [
    "strings = \"Hello, World!\"\n",
    "print(strings[0:5:2])  # Output: 'Hlo'\n"
   ]
  },
  {
   "cell_type": "code",
   "execution_count": 68,
   "id": "c4a61889",
   "metadata": {},
   "outputs": [
    {
     "name": "stdout",
     "output_type": "stream",
     "text": [
      "a\n",
      "r\n",
      "i\n"
     ]
    }
   ],
   "source": [
    "name = \"Marius Nowacki\"\n",
    "# indexes are 0,1,2,3,4,... or -14,-13,-12,..., -1\n",
    "print(name[1])#second letter\n",
    "print(name[-12])#second letter\n",
    "print(name[-1])#last letter"
   ]
  },
  {
   "cell_type": "markdown",
   "id": "370db7a5",
   "metadata": {},
   "source": [
    "#### Integers `int`\n",
    "\n",
    "- Represent whole negative and positive numbers (and zero).\n",
    "- The range of integer values is unbounded (up to some limit defined by how much memory you have on your computer).\n",
    "- `int(x)` will try to convert `x` to an integer, `x` can be another numeric type (including booleans) or a string. You may specify an optional base for the conversion\n",
    "\n",
    "*Example:*"
   ]
  },
  {
   "cell_type": "code",
   "execution_count": 69,
   "id": "64042a4c",
   "metadata": {},
   "outputs": [
    {
     "data": {
      "text/plain": [
       "int"
      ]
     },
     "execution_count": 69,
     "metadata": {},
     "output_type": "execute_result"
    }
   ],
   "source": [
    "type(123)"
   ]
  },
  {
   "cell_type": "code",
   "execution_count": 70,
   "id": "df612cc7",
   "metadata": {},
   "outputs": [
    {
     "data": {
      "text/plain": [
       "int"
      ]
     },
     "execution_count": 70,
     "metadata": {},
     "output_type": "execute_result"
    }
   ],
   "source": [
    "i = int('23')\n",
    "type(i)"
   ]
  },
  {
   "cell_type": "markdown",
   "id": "9a42a3c2",
   "metadata": {},
   "source": [
    "### Float `float`\n",
    "- Represent the real numbers (1.99, 2.549, ...)\n",
    "- Literals can be in ordinary notation or in exponential notation:\n",
    "    - Ordinary: `3.142`\n",
    "    - Exponential: 314.2e-2\n",
    "- Ordinary notation requires a point `\".\"`, but digits following the point are optional.\n",
    "- `float(x)`will try to convert x to a float\n",
    "\n",
    "*Example:*"
   ]
  },
  {
   "cell_type": "markdown",
   "id": "f15436a3",
   "metadata": {},
   "source": []
  },
  {
   "cell_type": "code",
   "execution_count": 71,
   "id": "b40774c7",
   "metadata": {},
   "outputs": [
    {
     "data": {
      "text/plain": [
       "float"
      ]
     },
     "execution_count": 71,
     "metadata": {},
     "output_type": "execute_result"
    }
   ],
   "source": [
    "type(2.9293)"
   ]
  },
  {
   "cell_type": "code",
   "execution_count": 72,
   "id": "32116369",
   "metadata": {},
   "outputs": [
    {
     "data": {
      "text/plain": [
       "True"
      ]
     },
     "execution_count": 72,
     "metadata": {},
     "output_type": "execute_result"
    }
   ],
   "source": [
    "3.142 == 314.2e-2"
   ]
  },
  {
   "cell_type": "markdown",
   "id": "6a41fa89",
   "metadata": {},
   "source": [
    "### Complex Numbers `complex` (U don't need to know)\n",
    "\n",
    "- Represent a finite approximation to the complex numbers.\n",
    "- Type: `complex`\n",
    "- A pair of floating point numbers: real +/- imaginary.\n",
    "- The real part is optional (defaults to 0). The imaginary part is followed immediately by the character `j`.\n",
    "\n",
    "*Examples:*"
   ]
  },
  {
   "cell_type": "code",
   "execution_count": 73,
   "id": "819a0be4",
   "metadata": {},
   "outputs": [
    {
     "data": {
      "text/plain": [
       "8j"
      ]
     },
     "execution_count": 73,
     "metadata": {},
     "output_type": "execute_result"
    }
   ],
   "source": [
    "5j + 3j"
   ]
  },
  {
   "cell_type": "code",
   "execution_count": 74,
   "id": "e7e4d223",
   "metadata": {},
   "outputs": [
    {
     "data": {
      "text/plain": [
       "complex"
      ]
     },
     "execution_count": 74,
     "metadata": {},
     "output_type": "execute_result"
    }
   ],
   "source": [
    "type(5j + 3j)"
   ]
  },
  {
   "cell_type": "markdown",
   "id": "e33453e5",
   "metadata": {},
   "source": [
    "### Booleans `bool`\n",
    "\n",
    "- Represent truth values\n",
    "- Values: `True`, `False`\n",
    "- Type: `bool`\n",
    "- Operators: `and`, `or`, `not`. See [Boolean Operations — and, or, not](https://docs.python.org/3/library/stdtypes.html#boolean-operations-and-or-not) in the Python documentation for more details.\n",
    "- `bool(x)` will convert `x` to a boolean. The heuristic is that empty things and zero-ish things are `False`, everything else is `True` (but the user can override for their own types). See [truth value testing](https://docs.python.org/3/library/stdtypes.html#truth-value-testing) in the Python documentation for more details.\n",
    "- False values:\n",
    "    - `False`\n",
    "    - `0` (zero integer)\n",
    "    - `0.0` (zero float)\n",
    "    - `{}` (empty dictionary)\n",
    "    - `()` (empty tuple)\n",
    "    - `[]` (empty list)\n",
    "    - `''` (empty string)\n",
    "    - `None`\n",
    "- True values:\n",
    "    - everything which is not considered False\n",
    "    \n",
    "In numerical contexts `True` is considered equal to the integer `1` and `False` is considered equal to the integer `0`. However, these conversions are a common cause of bugs and should be avoided.\n",
    "\n",
    "Python will automatically test the truthiness of a value if it appears in a boolean context.\n",
    "\n",
    "*Examples:*"
   ]
  },
  {
   "cell_type": "code",
   "execution_count": 75,
   "id": "7ee4992f",
   "metadata": {},
   "outputs": [
    {
     "data": {
      "text/plain": [
       "False"
      ]
     },
     "execution_count": 75,
     "metadata": {},
     "output_type": "execute_result"
    }
   ],
   "source": [
    "not True"
   ]
  },
  {
   "cell_type": "code",
   "execution_count": 76,
   "id": "c7c5e1db",
   "metadata": {},
   "outputs": [
    {
     "data": {
      "text/plain": [
       "True"
      ]
     },
     "execution_count": 76,
     "metadata": {},
     "output_type": "execute_result"
    }
   ],
   "source": [
    "# empty is converted to False in boolean contexts\n",
    "not ()"
   ]
  },
  {
   "cell_type": "code",
   "execution_count": 77,
   "id": "31c6b90b",
   "metadata": {},
   "outputs": [
    {
     "data": {
      "text/plain": [
       "False"
      ]
     },
     "execution_count": 77,
     "metadata": {},
     "output_type": "execute_result"
    }
   ],
   "source": [
    "5 == 10"
   ]
  },
  {
   "cell_type": "markdown",
   "id": "ffc259a1",
   "metadata": {},
   "source": [
    "## 1.4 Operators"
   ]
  },
  {
   "cell_type": "markdown",
   "id": "4523ff42",
   "metadata": {},
   "source": [
    "\n",
    "### Arithmetic Operators\n",
    "| Name | Operation | Precedence | Associativity | Notes |\n",
    "|:----:|-----------|------------|---------------|-------|\n",
    "| +    | add       | low        | left          | Can also be used to concatenate strings together. |\n",
    "| *    | multiply  | medium     | left          |        |\n",
    "| -    | subtract  | low        | left          |        |\n",
    "| /    | divide    | medium     | left          | In Python 3 the result is always a floating point number. In Python 2 the result is an integer if both operands are integers. |\n",
    "| //   | floor-divide | medium  | left          | divide then floor, result is an integer |\n",
    "| `**` | exponent  | high       | right         |        |\n",
    "| %    | modulus   | medium     | left          | remainder after division (Tips: use that to check if something is even or odd)|"
   ]
  },
  {
   "cell_type": "markdown",
   "id": "ecd5839a",
   "metadata": {},
   "source": [
    "### Relational Operators"
   ]
  },
  {
   "cell_type": "markdown",
   "id": "b6815bcf",
   "metadata": {},
   "source": [
    "| Name   | Operation                | Notes                                                                 |\n",
    "|:------:|--------------------------|----------------------------------------------------------------------|\n",
    "| ==     | equals                   | Checks if two values are equal. Can also be used to compare strings. |\n",
    "| !=     | not equals               | Checks if two values are not equal.                                  |\n",
    "| <      | less than                | Checks if the left value is less than the right value.               |\n",
    "| >      | greater than             | Checks if the left value is greater than the right value.            |\n",
    "| <=     | less than or equal to    | Checks if the left value is less than or equal to the right value.   |\n",
    "| >=     | greater than or equal to | Checks if the left value is greater than or equal to the right value.|\n",
    "| `is`   | identity check           | Checks if two references point to the same object.                   |\n",
    "| `is not` | negated identity check   | Checks if two references do not point to the same object.            |\n"
   ]
  },
  {
   "cell_type": "markdown",
   "id": "c5dba436",
   "metadata": {},
   "source": [
    "### Logical Operators\n",
    "| Operator | Name | Example                    |\n",
    "|----------|------|----------------------------|\n",
    "| and      | AND  | True and False -> False     |\n",
    "| or       | OR   | True or False -> True       |\n",
    "| not      | NOT  | not True -> False           |"
   ]
  },
  {
   "cell_type": "markdown",
   "id": "a0cbe0a0",
   "metadata": {},
   "source": [
    "#### Tips to assign faster (used a lot in `for`, `while`,...)\n",
    "| Operator | Meaning                | Equivalent            |\n",
    "|----------|------------------------|-----------------------|\n",
    "| `x += y` | Add and assign         | `x = x + y`          |\n",
    "| `x -= y` | Subtract and assign    | `x = x - y`          |\n",
    "| `x *= y` | Multiply and assign    | `x = x * y`          |\n",
    "| `x /= y` | Divide and assign      | `x = x / y`          |\n"
   ]
  },
  {
   "cell_type": "code",
   "execution_count": 78,
   "id": "b99d2bd9",
   "metadata": {},
   "outputs": [
    {
     "name": "stdout",
     "output_type": "stream",
     "text": [
      "True\n",
      "False\n",
      "True\n",
      "False\n",
      "True\n",
      "False\n",
      "True\n",
      "False\n",
      "True\n",
      "False\n",
      "True\n",
      "False\n",
      "True\n",
      "False\n",
      "True\n",
      "False\n"
     ]
    }
   ],
   "source": [
    "# Examples for each operation\n",
    "\n",
    "# 1. Equals (==)\n",
    "print(5 == 5)  # True: 5 is equal to 5\n",
    "print(\"hello\" == \"world\")  # False: strings are not equal\n",
    "\n",
    "# 2. Not Equals (!=)\n",
    "print(5 != 3)  # True: 5 is not equal to 3\n",
    "print(\"apple\" != \"apple\")  # False: strings are equal\n",
    "\n",
    "# 3. Less Than (<)\n",
    "print(3 < 5)  # True: 3 is less than 5\n",
    "print(7 < 4)  # False: 7 is not less than 4\n",
    "\n",
    "# 4. Greater Than (>)\n",
    "print(5 > 3)  # True: 5 is greater than 3\n",
    "print(2 > 4)  # False: 2 is not greater than 4\n",
    "\n",
    "# 5. Less Than or Equal To (<=)\n",
    "print(3 <= 3)  # True: 3 is equal to 3\n",
    "print(4 <= 2)  # False: 4 is not less than or equal to 2\n",
    "\n",
    "# 6. Greater Than or Equal To (>=)\n",
    "print(5 >= 4)  # True: 5 is greater than 4\n",
    "print(2 >= 6)  # False: 2 is not greater than or equal to 6\n",
    "\n",
    "# 7. Identity Check (is)\n",
    "a = [1, 2, 3]\n",
    "b = a\n",
    "c = [1, 2, 3]\n",
    "print(a is b)  # True: a and b refer to the same object\n",
    "print(a is c)  # False: a and c have the same content but are different objects\n",
    "\n",
    "# 8. Negated Identity Check (is not)\n",
    "print(a is not c)  # True: a and c are not the same object\n",
    "print(a is not b)  # False: a and b are the same object\n"
   ]
  },
  {
   "cell_type": "code",
   "execution_count": 79,
   "id": "b98574a3",
   "metadata": {},
   "outputs": [
    {
     "data": {
      "text/plain": [
       "'strings'"
      ]
     },
     "execution_count": 79,
     "metadata": {},
     "output_type": "execute_result"
    }
   ],
   "source": [
    "\"str\"+\"ings\""
   ]
  },
  {
   "cell_type": "code",
   "execution_count": 80,
   "id": "6f313b25",
   "metadata": {},
   "outputs": [
    {
     "data": {
      "text/plain": [
       "3"
      ]
     },
     "execution_count": 80,
     "metadata": {},
     "output_type": "execute_result"
    }
   ],
   "source": [
    "10//3"
   ]
  },
  {
   "cell_type": "code",
   "execution_count": 81,
   "id": "34b7caf7",
   "metadata": {},
   "outputs": [
    {
     "data": {
      "text/plain": [
       "3.3333333333333335"
      ]
     },
     "execution_count": 81,
     "metadata": {},
     "output_type": "execute_result"
    }
   ],
   "source": [
    "10/3"
   ]
  },
  {
   "cell_type": "code",
   "execution_count": 82,
   "id": "9f150ad5",
   "metadata": {},
   "outputs": [
    {
     "data": {
      "text/plain": [
       "1"
      ]
     },
     "execution_count": 82,
     "metadata": {},
     "output_type": "execute_result"
    }
   ],
   "source": [
    "10%3"
   ]
  },
  {
   "cell_type": "markdown",
   "id": "ae11459b",
   "metadata": {},
   "source": [
    "## 1.5 Errors:\n",
    "- Syntax Errors: These happen when your code breaks the rules of Python grammar. Like making a grammatical mistake in English. For example, forgetting a colon after an if statement. These are usually caught when you try to run the program.\n",
    "\n",
    "- Semantic Errors: These happen when your code is grammatically correct but doesn't do what you intended. This is due to flawed logic: for example, dividing by zero. These are trickier to find because the program might still run, but with wrong results.\n",
    "Debugging is the process of finding and fixing logical errors in your code."
   ]
  },
  {
   "cell_type": "markdown",
   "id": "1c6aa3bb",
   "metadata": {},
   "source": []
  },
  {
   "cell_type": "markdown",
   "id": "6de9693e",
   "metadata": {},
   "source": [
    "## 1.6 `Print()` and `Input()`"
   ]
  },
  {
   "cell_type": "markdown",
   "id": "58539574",
   "metadata": {},
   "source": [
    "- The `print()` \n",
    "    - function is used to display information on the computer's console. \n",
    "    - You can use it to output text, numbers, or the values of variables.\n",
    "    - From `str`: \n",
    "        - `\\n` newline\n",
    "        - `\\t` tab\n",
    "        - `\\\\` backslash\n",
    "        - `\\'` single quote\n",
    "        - `\\\"` double quote\n",
    "- The `input()` \n",
    "    - function allows a program to receive information from the user. \n",
    "    - It displays a message prompting the user for input and then waits for the user to type something and press Enter. \n",
    "    - **It returns the user's input as a string.**"
   ]
  },
  {
   "cell_type": "code",
   "execution_count": 83,
   "id": "a234292a",
   "metadata": {},
   "outputs": [
    {
     "name": "stdout",
     "output_type": "stream",
     "text": [
      "hello\n",
      "10\n",
      "25\n",
      "Hi im Roger and I am 40 years old\n",
      "this is a new line\n",
      "down here then a\ttab etc...\n"
     ]
    }
   ],
   "source": [
    "#display text\n",
    "print(\"hello\")\n",
    "#display numbers\n",
    "print(10)\n",
    "\n",
    "#variables\n",
    "x = 25\n",
    "print(x)\n",
    "\n",
    "#multiple\n",
    "age = 40\n",
    "print(\"Hi im Roger and I am\",age,\"years old\")\n",
    "print(\"this is a new line\\ndown here then a\\ttab etc...\")"
   ]
  },
  {
   "cell_type": "code",
   "execution_count": 84,
   "id": "918488af",
   "metadata": {},
   "outputs": [],
   "source": [
    "#if input needs to be an int or a float number \n",
    "# ex : age = int(input(\"enter your age\"))"
   ]
  },
  {
   "cell_type": "markdown",
   "id": "c2c31b74",
   "metadata": {},
   "source": [
    "#### Tips:\n",
    "**The `f\"\"` syntax in Python, also known as an f-string (formatted string literal), is a concise and readable way to embed expressions or variables inside a string.**\n",
    "F-strings can evaluate expressions and format numbers or text on the fly"
   ]
  },
  {
   "cell_type": "code",
   "execution_count": 85,
   "id": "d6613395",
   "metadata": {},
   "outputs": [
    {
     "name": "stdout",
     "output_type": "stream",
     "text": [
      "la force de gravitation est égale à la masse=10 * l'accel=9.81 = 98.10000000000001\n"
     ]
    }
   ],
   "source": [
    "#print(f\"{variables}\") !!! \n",
    "\n",
    "masse = 10\n",
    "accel = 9.81\n",
    "fnewt = masse * accel\n",
    "\n",
    "print(f\"la force de gravitation est égale à la {masse=} * l'{accel=} = {fnewt}\")\n"
   ]
  },
  {
   "cell_type": "markdown",
   "id": "43148664",
   "metadata": {},
   "source": [
    "## 1.7 Control Flow Statements\n",
    "Control flow statements let you control the order in which your code runs. These include `if`, `while`, and `for` loops."
   ]
  },
  {
   "cell_type": "markdown",
   "id": "f5f4c5db",
   "metadata": {},
   "source": [
    "### 1. `if` Statement (Conditional)\n",
    "The if statement is used to execute code only if a certain condition is true."
   ]
  },
  {
   "cell_type": "code",
   "execution_count": 86,
   "id": "44e98539",
   "metadata": {},
   "outputs": [
    {
     "name": "stdout",
     "output_type": "stream",
     "text": [
      "You are an adult.\n"
     ]
    }
   ],
   "source": [
    "age = 18\n",
    "if age >= 18:\n",
    "    print(\"You are an adult.\")  # This will print because the condition is True\n"
   ]
  },
  {
   "cell_type": "markdown",
   "id": "b9b7a9a5",
   "metadata": {},
   "source": [
    "#### 1.1 `else` Statement\n",
    "The else statement runs code if the condition is False."
   ]
  },
  {
   "cell_type": "code",
   "execution_count": 87,
   "id": "efcfd158",
   "metadata": {},
   "outputs": [
    {
     "name": "stdout",
     "output_type": "stream",
     "text": [
      "You are not an adult.\n"
     ]
    }
   ],
   "source": [
    "age = 16\n",
    "if age >= 18:\n",
    "    print(\"You are an adult.\")\n",
    "else:\n",
    "    print(\"You are not an adult.\")  # Output: \"You are not an adult.\"\n"
   ]
  },
  {
   "cell_type": "markdown",
   "id": "606a648b",
   "metadata": {},
   "source": [
    "### 1.3 `elif` Statement (Short for \"else if\")\n",
    "The elif statement is used to check multiple conditions. If the if condition is False, it checks the elif conditions one by one."
   ]
  },
  {
   "cell_type": "code",
   "execution_count": 88,
   "id": "b4e07ab4",
   "metadata": {},
   "outputs": [
    {
     "name": "stdout",
     "output_type": "stream",
     "text": [
      "You are an adult, but not of drinking age.\n"
     ]
    }
   ],
   "source": [
    "age = 20\n",
    "if age < 18:\n",
    "    print(\"You are a minor.\")\n",
    "elif age < 21:\n",
    "    print(\"You are an adult, but not of drinking age.\")  # Output: \"You are an adult, but not of drinking age.\"\n",
    "else:\n",
    "    print(\"You are of legal drinking age.\")\n"
   ]
  },
  {
   "cell_type": "markdown",
   "id": "709e988c",
   "metadata": {},
   "source": [
    "### 2. `while` Loop (Repeated Execution)\n",
    "The while loop repeats a block of code as long as a condition is true.\n",
    "- The while loop will keep running as long as the condition remains true. Once it becomes false, the loop stops."
   ]
  },
  {
   "cell_type": "code",
   "execution_count": 89,
   "id": "f4075a1c",
   "metadata": {},
   "outputs": [
    {
     "name": "stdout",
     "output_type": "stream",
     "text": [
      "0\n",
      "1\n",
      "2\n"
     ]
    },
    {
     "data": {
      "text/plain": [
       "'\\nwhile True:\\n    user_input = input(\"Enter \\'exit\\' to quit: \")\\n    if user_input == \\'exit\\':\\n        print(\"Exiting...\")\\n        break  # This breaks the infinite loop when \\'exit\\' is entered\\n\\n'"
      ]
     },
     "execution_count": 89,
     "metadata": {},
     "output_type": "execute_result"
    }
   ],
   "source": [
    "count = 0\n",
    "while count < 3:\n",
    "    print(count)  # This will print 0, 1, 2\n",
    "    count += 1     # Increments count by 1 after each iteration\n",
    "\n",
    "# Common use -> infinite input\n",
    "\"\"\"\n",
    "while True:\n",
    "    user_input = input(\"Enter 'exit' to quit: \")\n",
    "    if user_input == 'exit':\n",
    "        print(\"Exiting...\")\n",
    "        break  # This breaks the infinite loop when 'exit' is entered\n",
    "\n",
    "\"\"\""
   ]
  },
  {
   "cell_type": "markdown",
   "id": "3bd43f17",
   "metadata": {},
   "source": [
    "### 3. `for` Loop (Iterating over Sequences)\n",
    "The for loop is used to iterate over a sequence (like a list, tuple, or range) and execute code for each item in that sequence."
   ]
  },
  {
   "cell_type": "code",
   "execution_count": 90,
   "id": "0da7254a",
   "metadata": {},
   "outputs": [
    {
     "name": "stdout",
     "output_type": "stream",
     "text": [
      "0\n",
      "2\n",
      "4\n",
      "6\n",
      "8\n"
     ]
    }
   ],
   "source": [
    "for i in range(0, 10, 2):\n",
    "    print(i)\n"
   ]
  },
  {
   "cell_type": "code",
   "execution_count": 91,
   "id": "b87fc80a",
   "metadata": {},
   "outputs": [
    {
     "name": "stdout",
     "output_type": "stream",
     "text": [
      "apple\n",
      "banana\n",
      "cherry\n"
     ]
    }
   ],
   "source": [
    "fruits = [\"apple\", \"banana\", \"cherry\"]\n",
    "for fruit in fruits:\n",
    "    print(fruit)  # This will print \"apple\", \"banana\", and \"cherry\""
   ]
  },
  {
   "cell_type": "markdown",
   "id": "e09a7d2c",
   "metadata": {},
   "source": [
    "# 2. Datastructure (`list`,`dict`,...)"
   ]
  },
  {
   "cell_type": "markdown",
   "id": "bf0a3a79",
   "metadata": {},
   "source": [
    "## 2.1 List"
   ]
  },
  {
   "cell_type": "markdown",
   "id": "86d013ed",
   "metadata": {},
   "source": [
    "- **Definition**: A list is a versatile data structure used to store an ordered collection of items.\n",
    "\n",
    "- **Creation**: Lists are created using square brackets [], with items separated by commas:\n",
    "\n",
    "- **Data Types**: Lists can contain items of various data types, including integers, floats, strings, booleans, and even other lists.\n",
    "\n",
    "- **Accessing Elements**:\n",
    "\n",
    "    - Indexing: You can access individual items using their index, starting from 0 for the first element.\n",
    "\n",
    "    - Negative Indexing: Access elements from the end using negative indices:\n",
    "\n",
    "- **Slicing**: Extract a portion of the list (a sub-list) using slicing:\n",
    "\n",
    "- **Mutability**: Lists are mutable, allowing modification after creation:\n",
    "\n",
    "    - Changing Values:\n",
    "\n",
    "    - Adding Items:\n",
    "\n",
    "    - Removing Items:\n",
    "\n",
    "- **Iteration**: Use loops to process each item in a list sequentially:"
   ]
  },
  {
   "cell_type": "code",
   "execution_count": 92,
   "id": "cd208091",
   "metadata": {},
   "outputs": [
    {
     "name": "stdout",
     "output_type": "stream",
     "text": [
      "[1, 2, 3, 4, 5, 6, 7] \t ['a', 'b', 'c', 'd', 'e']\n",
      "---------------------------------------------\n",
      "1\n",
      "1\n"
     ]
    }
   ],
   "source": [
    "#Creation\n",
    "\n",
    "mylist = [1,2,3,4,5,6,7] #remember that the name `list` cannot be used\n",
    "myotherlist = list(\"abcde\") #this is another way of creating a list \n",
    "# !!! strings act as a list (check types), the function list() only takes 1 argument (here str:\"abcde\") so it only works like that\n",
    "print(mylist,\"\\t\",myotherlist)\n",
    "\n",
    "print(\"---------------------------------------------\")\n",
    "#Accessing elements:\n",
    "\n",
    "print(mylist[0]) #index in a list begins with zero ex. in mylist --> (0,1,2,3,4,5,6)\n",
    "print(mylist[-7]) #or (-7,-6,-5,-4,-3,-2,-1)\n"
   ]
  },
  {
   "cell_type": "code",
   "execution_count": 93,
   "id": "cc0fd97d",
   "metadata": {},
   "outputs": [
    {
     "name": "stdout",
     "output_type": "stream",
     "text": [
      "[2, 3, 4]\n",
      "[3, 4, 5, 6, 7, 8, 9]\n",
      "[0, 1, 2, 3, 4, 5]\n",
      "[0, 2, 4, 6, 8]\n",
      "[9, 8, 7, 6, 5, 4, 3, 2, 1, 0]\n"
     ]
    }
   ],
   "source": [
    "#Slicing example\n",
    "mylist = [0, 1, 2, 3, 4, 5, 6, 7, 8, 9]\n",
    "\n",
    "# Slice from index 2 to 5 (not including 5)\n",
    "print(mylist[2:5])  # Output: [2, 3, 4]\n",
    "\n",
    "# Slice from index 3 to the end of the list\n",
    "print(mylist[3:])   # Output: [3, 4, 5, 6, 7, 8, 9]\n",
    "\n",
    "# Slice from the beginning up to index 6 (not including 6)\n",
    "print(mylist[:6])   # Output: [0, 1, 2, 3, 4, 5]\n",
    "\n",
    "# Slice with a step of 2 (every second element from index 0 to the end)\n",
    "print(mylist[::2])  # Output: [0, 2, 4, 6, 8]\n",
    "\n",
    "# Slice with a negative step (reverse the list)\n",
    "print(mylist[::-1]) # Output: [9, 8, 7, 6, 5, 4, 3, 2, 1, 0]\n"
   ]
  },
  {
   "cell_type": "code",
   "execution_count": 94,
   "id": "c8758d7d",
   "metadata": {},
   "outputs": [
    {
     "name": "stdout",
     "output_type": "stream",
     "text": [
      "[1, 2, 3, 4, 5, 6]\n"
     ]
    }
   ],
   "source": [
    "#List concatenation \n",
    "# Two lists\n",
    "list1 = [1, 2, 3]\n",
    "list2 = [4, 5, 6]\n",
    "\n",
    "# Concatenate the lists\n",
    "concatenated_list = list1 + list2\n",
    "\n",
    "print(concatenated_list)  # Output: [1, 2, 3, 4, 5, 6]\n"
   ]
  },
  {
   "cell_type": "markdown",
   "id": "3e28fdd9",
   "metadata": {},
   "source": [
    "**The `range(start, end, step)` function in Python generates a sequence of numbers. It’s commonly used in loops and is a convenient way to create numeric ranges.**\n",
    "- start (optional): The starting value of the range (inclusive). Defaults to 0 if not provided.\n",
    "- stop (required): The end value of the range (exclusive).\n",
    "- step (optional): The increment (or decrement) between numbers. Defaults to 1 if not provided"
   ]
  },
  {
   "cell_type": "code",
   "execution_count": 95,
   "id": "260159d5",
   "metadata": {},
   "outputs": [
    {
     "name": "stdout",
     "output_type": "stream",
     "text": [
      "[0, 1, 2, 3, 4, 5, 6, 7]\n"
     ]
    }
   ],
   "source": [
    "mylistwithrange = list(range(0,8))\n",
    "print(mylistwithrange)"
   ]
  },
  {
   "cell_type": "markdown",
   "id": "3bed8521",
   "metadata": {},
   "source": [
    "### Some useful function:"
   ]
  },
  {
   "cell_type": "markdown",
   "id": "b0c2f6a1",
   "metadata": {},
   "source": [
    "| Function                  | Description                                                                            | Example                                                                 |\n",
    "|---------------------------|----------------------------------------------------------------------------------------|-------------------------------------------------------------------------|\n",
    "| `range()`                 | Generates a sequence of numbers within a specified range.                             | `range(0, 5)` produces numbers from 0 to 4.                           |\n",
    "| `namelist.append(x)`      | Adds an item `x` to the end of the list `namelist`.                                   | `namelist = [1, 2]; namelist.append(3)` -> `[1, 2, 3]`                |\n",
    "| `namelist.insert(i, x)`   | Inserts the item `x` at position `i` in the list `namelist`.                         | `namelist = [1, 3]; namelist.insert(1, 2)` -> `[1, 2, 3]`              |\n",
    "| `namelist.pop(i)`         | Removes and returns the item at position `i` in the list `namelist`. If no index is given, removes the last item. | `namelist = [1, 2, 3]; namelist.pop(1)` -> `[1, 3]`, returns `2`       |\n",
    "| `namelist.remove(x)`      | Removes the first occurrence of item `x` in the list `namelist`.                      | `namelist = [1, 2, 3, 2]; namelist.remove(2)` -> `[1, 3, 2]`           |\n",
    "| `namelist.extend(list2)`  | Adds all elements from `list2` to the end of `namelist`.                             | `namelist = [1, 2]; namelist.extend([3, 4])` -> `[1, 2, 3, 4]`        |\n",
    "| `namelist.sort()`         | Sorts the elements of `namelist` in ascending order.                                 | `namelist = [3, 1, 2]; namelist.sort()` -> `[1, 2, 3]`                |\n",
    "| `namelist.reverse()`      | Reverses the order of elements in `namelist`.                                         | `namelist = [1, 2, 3]; namelist.reverse()` -> `[3, 2, 1]`              |\n",
    "| `namelist.count(x)`       | Returns the number of times item `x` appears in `namelist`.                           | `namelist = [1, 2, 2, 3]; namelist.count(2)` -> `2`                    |\n",
    "| `namelist.index(x)`       | Returns the index of the first occurrence of item `x` in `namelist`.                  | `namelist = [1, 2, 3]; namelist.index(2)` -> `1`                        |\n",
    "| `len()`                   | Returns the number of elements in an object (e.g., list, string, tuple, etc.).        | `len([1, 2, 3])` -> `3`                                               |\n",
    "| `max()`                   | Returns the largest item in an iterable or the largest of multiple arguments.         | `max([1, 3, 2])` -> `3`                                                |\n",
    "| `min()`                   | Returns the smallest item in an iterable or the smallest of multiple arguments.       | `min([1, 3, 2])` -> `1`                                                |\n"
   ]
  },
  {
   "cell_type": "markdown",
   "id": "440a9810",
   "metadata": {},
   "source": [
    "### List Comprehension in Python\n",
    "List comprehension is a quick way to create a new list by applying an operation to each item in an existing list or range.\n",
    "- `[operation for item in iterable]`"
   ]
  },
  {
   "cell_type": "code",
   "execution_count": 96,
   "id": "c7839523",
   "metadata": {},
   "outputs": [
    {
     "name": "stdout",
     "output_type": "stream",
     "text": [
      "[0, 1, 4, 9, 16]\n"
     ]
    }
   ],
   "source": [
    "squares = [x**2 for x in range(5)]\n",
    "print(squares)  # Output: [0, 1, 4, 9, 16]"
   ]
  },
  {
   "cell_type": "code",
   "execution_count": 97,
   "id": "3cceb20b",
   "metadata": {},
   "outputs": [
    {
     "name": "stdout",
     "output_type": "stream",
     "text": [
      "[0, 2, 4, 6, 8]\n"
     ]
    }
   ],
   "source": [
    "even_numbers = [x for x in range(10) if x % 2 == 0]\n",
    "print(even_numbers)  # Output: [0, 2, 4, 6, 8]"
   ]
  },
  {
   "cell_type": "markdown",
   "id": "3d0e54fe",
   "metadata": {},
   "source": [
    "### List of list example 2D\n",
    "A 2D list (or two-dimensional list) is a list of lists. It is often used to represent data in a matrix-like structure (rows and columns). Each element in a 2D list can be accessed using two indices: the first for the row and the second for the column.\n"
   ]
  },
  {
   "cell_type": "code",
   "execution_count": 98,
   "id": "ebdac3f6",
   "metadata": {},
   "outputs": [
    {
     "name": "stdout",
     "output_type": "stream",
     "text": [
      "6\n"
     ]
    }
   ],
   "source": [
    "matrix = [\n",
    "    [1, 2, 3],\n",
    "    [4, 5, 6],\n",
    "    [7, 8, 9]\n",
    "]\n",
    "\n",
    "# Accessing the element in the second row, third column\n",
    "print(matrix[1][2])  # Output: 6\n"
   ]
  },
  {
   "cell_type": "code",
   "execution_count": 99,
   "id": "04bed8e2",
   "metadata": {},
   "outputs": [
    {
     "name": "stdout",
     "output_type": "stream",
     "text": [
      "1 2 3 \n",
      "4 5 6 \n",
      "7 8 9 \n"
     ]
    }
   ],
   "source": [
    "matrix = [\n",
    "    [1, 2, 3],\n",
    "    [4, 5, 6],\n",
    "    [7, 8, 9]\n",
    "]\n",
    "\n",
    "# Loop through each row and each element within the row\n",
    "for row in matrix:\n",
    "    for element in row:\n",
    "        print(element, end=\" \")\n",
    "    print()  # For new line after each row\n"
   ]
  },
  {
   "cell_type": "code",
   "execution_count": 100,
   "id": "cf0a6603",
   "metadata": {},
   "outputs": [
    {
     "name": "stdout",
     "output_type": "stream",
     "text": [
      "[[0, 0, 0], [0, 0, 0], [0, 0, 0]]\n"
     ]
    }
   ],
   "source": [
    "# Creating a 3x3 matrix with initial values of 0\n",
    "matrix = [[0 for _ in range(3)] for _ in range(3)]\n",
    "print(matrix)\n"
   ]
  },
  {
   "cell_type": "code",
   "execution_count": null,
   "id": "155df7b5",
   "metadata": {},
   "outputs": [],
   "source": []
  }
 ],
 "metadata": {
  "kernelspec": {
   "display_name": "Python 3 (ipykernel)",
   "language": "python",
   "name": "python3"
  },
  "language_info": {
   "codemirror_mode": {
    "name": "ipython",
    "version": 3
   },
   "file_extension": ".py",
   "mimetype": "text/x-python",
   "name": "python",
   "nbconvert_exporter": "python",
   "pygments_lexer": "ipython3",
   "version": "3.9.7"
  }
 },
 "nbformat": 4,
 "nbformat_minor": 5
}
